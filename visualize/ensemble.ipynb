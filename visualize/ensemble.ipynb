{
  "nbformat": 4,
  "nbformat_minor": 0,
  "metadata": {
    "kernelspec": {
      "display_name": "Python 3",
      "language": "python",
      "name": "python3"
    },
    "language_info": {
      "codemirror_mode": {
        "name": "ipython",
        "version": 3
      },
      "file_extension": ".py",
      "mimetype": "text/x-python",
      "name": "python",
      "nbconvert_exporter": "python",
      "pygments_lexer": "ipython3",
      "version": "3.6.5"
    },
    "colab": {
      "name": "ensemble.ipynb",
      "provenance": [],
      "collapsed_sections": []
    }
  },
  "cells": [
    {
      "cell_type": "markdown",
      "metadata": {
        "id": "0w5zBz1_-_NG"
      },
      "source": [
        "# Ensemble average of probabilities from various models\n",
        "## of test time augmented probabilies "
      ]
    },
    {
      "cell_type": "markdown",
      "metadata": {
        "id": "KKpnSihG-_NG"
      },
      "source": [
        "# Lib imports"
      ]
    },
    {
      "cell_type": "code",
      "metadata": {
        "id": "lVVTTY55-_NG"
      },
      "source": [
        "import pandas as pd\n",
        "import numpy as np\n",
        "import matplotlib.pyplot as plt\n",
        "%matplotlib inline\n",
        "from sklearn.metrics import accuracy_score, confusion_matrix\n",
        "import itertools"
      ],
      "execution_count": 1,
      "outputs": []
    },
    {
      "cell_type": "code",
      "metadata": {
        "colab": {
          "base_uri": "https://localhost:8080/"
        },
        "id": "gxLYhfGG_n8K",
        "outputId": "68a6b4c1-bbe1-4fd3-d97b-dce7c67e31d8"
      },
      "source": [
        "from google.colab import drive\n",
        "drive.mount('/content/drive')"
      ],
      "execution_count": 2,
      "outputs": [
        {
          "output_type": "stream",
          "text": [
            "Mounted at /content/drive\n"
          ],
          "name": "stdout"
        }
      ]
    },
    {
      "cell_type": "code",
      "metadata": {
        "colab": {
          "base_uri": "https://localhost:8080/",
          "height": 35
        },
        "id": "sjbztSq1_igd",
        "outputId": "cf3fa81f-f7d5-40f3-be57-5993b2c3f6e0"
      },
      "source": [
        "Data_path = '/content/drive/MyDrive/Colab Notebooks/FinalProject/Visual-1/'\n",
        "Data_path + 'resnet50_places_progressive_resizing/val_probs_tta.csv'"
      ],
      "execution_count": 3,
      "outputs": [
        {
          "output_type": "execute_result",
          "data": {
            "application/vnd.google.colaboratory.intrinsic+json": {
              "type": "string"
            },
            "text/plain": [
              "'/content/drive/MyDrive/Colab Notebooks/FinalProject/Visual-1/resnet50_places_progressive_resizing/val_probs_tta.csv'"
            ]
          },
          "metadata": {
            "tags": []
          },
          "execution_count": 3
        }
      ]
    },
    {
      "cell_type": "markdown",
      "metadata": {
        "id": "J7zHIUHd-_NG"
      },
      "source": [
        "# Load data probability files with all test time augmented validations"
      ]
    },
    {
      "cell_type": "code",
      "metadata": {
        "id": "cJl60RIw-_NG"
      },
      "source": [
        "# Resnet 50 places 365\n",
        "rn50_plc_val_df = pd.read_csv(Data_path + 'resnet50_places_progressive_resizing/val_probs_tta.csv')\n",
        "rn50_plc_val_df.name = 'Resnet 50 places 365'\n",
        "\n",
        "# Imagenet resnet 50\n",
        "rn50_val_df = pd.read_csv(Data_path + 'resnet_50_progressive_resizing/val_probs_tta.csv')\n",
        "rn50_val_df.name ='Imagenet resnet 50'\n",
        "\n",
        "# Imagenet resnet 101\n",
        "rn101_val_df = pd.read_csv(Data_path + 'resnet_101/val_probs_tta.csv')\n",
        "rn101_val_df.name ='Imagenet resnet 101'\n",
        "\n",
        "# Imagenet resnext 101-next \n",
        "sernxt_val_df = pd.read_csv(Data_path + 'se_resnext101/val_probs_tta.csv')\n",
        "sernxt_val_df.name ='Imagenet resnext 101-next'\n"
      ],
      "execution_count": 4,
      "outputs": []
    },
    {
      "cell_type": "code",
      "metadata": {
        "colab": {
          "base_uri": "https://localhost:8080/",
          "height": 885
        },
        "id": "2j19_86iEu9k",
        "outputId": "88475924-1bf2-47ff-bc71-a43ce10594f5"
      },
      "source": [
        "print('\\n\\033[1m >>', rn50_plc_val_df.name); display(rn50_plc_val_df.head())\n",
        "print('\\n\\033[1m >>', rn50_val_df.name); display(rn50_val_df.head())\n",
        "print('\\n\\033[1m >>', rn101_val_df.name); display(rn101_val_df.head())\n",
        "print('\\n\\033[1m >>', sernxt_val_df.name); display(rn50_val_df.head())"
      ],
      "execution_count": 5,
      "outputs": [
        {
          "output_type": "stream",
          "text": [
            "\n",
            "\u001b[1m >> Resnet 50 places 365\n"
          ],
          "name": "stdout"
        },
        {
          "output_type": "display_data",
          "data": {
            "text/html": [
              "<div>\n",
              "<style scoped>\n",
              "    .dataframe tbody tr th:only-of-type {\n",
              "        vertical-align: middle;\n",
              "    }\n",
              "\n",
              "    .dataframe tbody tr th {\n",
              "        vertical-align: top;\n",
              "    }\n",
              "\n",
              "    .dataframe thead th {\n",
              "        text-align: right;\n",
              "    }\n",
              "</style>\n",
              "<table border=\"1\" class=\"dataframe\">\n",
              "  <thead>\n",
              "    <tr style=\"text-align: right;\">\n",
              "      <th></th>\n",
              "      <th>buildings</th>\n",
              "      <th>forest</th>\n",
              "      <th>glacier</th>\n",
              "      <th>mountain</th>\n",
              "      <th>sea</th>\n",
              "      <th>street</th>\n",
              "      <th>image_name</th>\n",
              "      <th>ground_label</th>\n",
              "    </tr>\n",
              "  </thead>\n",
              "  <tbody>\n",
              "    <tr>\n",
              "      <th>0</th>\n",
              "      <td>6.737539e-04</td>\n",
              "      <td>1.044293e-07</td>\n",
              "      <td>4.317101e-07</td>\n",
              "      <td>5.271999e-07</td>\n",
              "      <td>7.753595e-07</td>\n",
              "      <td>9.993244e-01</td>\n",
              "      <td>16525.jpg</td>\n",
              "      <td>5</td>\n",
              "    </tr>\n",
              "    <tr>\n",
              "      <th>1</th>\n",
              "      <td>5.736681e-05</td>\n",
              "      <td>1.484929e-04</td>\n",
              "      <td>7.533726e-01</td>\n",
              "      <td>8.374138e-04</td>\n",
              "      <td>2.455225e-01</td>\n",
              "      <td>6.171868e-05</td>\n",
              "      <td>13651.jpg</td>\n",
              "      <td>2</td>\n",
              "    </tr>\n",
              "    <tr>\n",
              "      <th>2</th>\n",
              "      <td>9.999834e-01</td>\n",
              "      <td>1.151890e-07</td>\n",
              "      <td>2.106648e-06</td>\n",
              "      <td>5.109700e-07</td>\n",
              "      <td>4.915793e-07</td>\n",
              "      <td>1.337738e-05</td>\n",
              "      <td>13383.jpg</td>\n",
              "      <td>0</td>\n",
              "    </tr>\n",
              "    <tr>\n",
              "      <th>3</th>\n",
              "      <td>9.999737e-01</td>\n",
              "      <td>4.519182e-07</td>\n",
              "      <td>1.811936e-06</td>\n",
              "      <td>3.891489e-07</td>\n",
              "      <td>2.139658e-06</td>\n",
              "      <td>2.166839e-05</td>\n",
              "      <td>11483.jpg</td>\n",
              "      <td>0</td>\n",
              "    </tr>\n",
              "    <tr>\n",
              "      <th>4</th>\n",
              "      <td>3.318392e-07</td>\n",
              "      <td>5.853170e-07</td>\n",
              "      <td>3.124403e-05</td>\n",
              "      <td>7.521308e-06</td>\n",
              "      <td>9.999603e-01</td>\n",
              "      <td>7.762713e-08</td>\n",
              "      <td>19306.jpg</td>\n",
              "      <td>4</td>\n",
              "    </tr>\n",
              "  </tbody>\n",
              "</table>\n",
              "</div>"
            ],
            "text/plain": [
              "      buildings        forest  ...  image_name  ground_label\n",
              "0  6.737539e-04  1.044293e-07  ...   16525.jpg             5\n",
              "1  5.736681e-05  1.484929e-04  ...   13651.jpg             2\n",
              "2  9.999834e-01  1.151890e-07  ...   13383.jpg             0\n",
              "3  9.999737e-01  4.519182e-07  ...   11483.jpg             0\n",
              "4  3.318392e-07  5.853170e-07  ...   19306.jpg             4\n",
              "\n",
              "[5 rows x 8 columns]"
            ]
          },
          "metadata": {
            "tags": []
          }
        },
        {
          "output_type": "stream",
          "text": [
            "\n",
            "\u001b[1m >> Imagenet resnet 50\n"
          ],
          "name": "stdout"
        },
        {
          "output_type": "display_data",
          "data": {
            "text/html": [
              "<div>\n",
              "<style scoped>\n",
              "    .dataframe tbody tr th:only-of-type {\n",
              "        vertical-align: middle;\n",
              "    }\n",
              "\n",
              "    .dataframe tbody tr th {\n",
              "        vertical-align: top;\n",
              "    }\n",
              "\n",
              "    .dataframe thead th {\n",
              "        text-align: right;\n",
              "    }\n",
              "</style>\n",
              "<table border=\"1\" class=\"dataframe\">\n",
              "  <thead>\n",
              "    <tr style=\"text-align: right;\">\n",
              "      <th></th>\n",
              "      <th>buildings</th>\n",
              "      <th>forest</th>\n",
              "      <th>glacier</th>\n",
              "      <th>mountain</th>\n",
              "      <th>sea</th>\n",
              "      <th>street</th>\n",
              "      <th>image_name</th>\n",
              "      <th>ground_label</th>\n",
              "    </tr>\n",
              "  </thead>\n",
              "  <tbody>\n",
              "    <tr>\n",
              "      <th>0</th>\n",
              "      <td>2.867854e-04</td>\n",
              "      <td>1.109198e-07</td>\n",
              "      <td>4.753775e-07</td>\n",
              "      <td>6.784446e-07</td>\n",
              "      <td>0.000001</td>\n",
              "      <td>9.997107e-01</td>\n",
              "      <td>16525.jpg</td>\n",
              "      <td>5</td>\n",
              "    </tr>\n",
              "    <tr>\n",
              "      <th>1</th>\n",
              "      <td>3.549014e-06</td>\n",
              "      <td>3.466793e-06</td>\n",
              "      <td>9.981116e-01</td>\n",
              "      <td>1.817996e-04</td>\n",
              "      <td>0.001692</td>\n",
              "      <td>7.849612e-06</td>\n",
              "      <td>13651.jpg</td>\n",
              "      <td>2</td>\n",
              "    </tr>\n",
              "    <tr>\n",
              "      <th>2</th>\n",
              "      <td>9.994719e-01</td>\n",
              "      <td>5.298385e-07</td>\n",
              "      <td>1.016252e-05</td>\n",
              "      <td>8.807727e-06</td>\n",
              "      <td>0.000008</td>\n",
              "      <td>5.007012e-04</td>\n",
              "      <td>13383.jpg</td>\n",
              "      <td>0</td>\n",
              "    </tr>\n",
              "    <tr>\n",
              "      <th>3</th>\n",
              "      <td>9.999152e-01</td>\n",
              "      <td>4.103639e-07</td>\n",
              "      <td>3.410274e-06</td>\n",
              "      <td>1.052877e-06</td>\n",
              "      <td>0.000002</td>\n",
              "      <td>7.768787e-05</td>\n",
              "      <td>11483.jpg</td>\n",
              "      <td>0</td>\n",
              "    </tr>\n",
              "    <tr>\n",
              "      <th>4</th>\n",
              "      <td>8.912550e-07</td>\n",
              "      <td>3.554716e-07</td>\n",
              "      <td>7.994288e-06</td>\n",
              "      <td>9.838146e-05</td>\n",
              "      <td>0.999892</td>\n",
              "      <td>7.592143e-07</td>\n",
              "      <td>19306.jpg</td>\n",
              "      <td>4</td>\n",
              "    </tr>\n",
              "  </tbody>\n",
              "</table>\n",
              "</div>"
            ],
            "text/plain": [
              "      buildings        forest  ...  image_name  ground_label\n",
              "0  2.867854e-04  1.109198e-07  ...   16525.jpg             5\n",
              "1  3.549014e-06  3.466793e-06  ...   13651.jpg             2\n",
              "2  9.994719e-01  5.298385e-07  ...   13383.jpg             0\n",
              "3  9.999152e-01  4.103639e-07  ...   11483.jpg             0\n",
              "4  8.912550e-07  3.554716e-07  ...   19306.jpg             4\n",
              "\n",
              "[5 rows x 8 columns]"
            ]
          },
          "metadata": {
            "tags": []
          }
        },
        {
          "output_type": "stream",
          "text": [
            "\n",
            "\u001b[1m >> Imagenet resnet 101\n"
          ],
          "name": "stdout"
        },
        {
          "output_type": "display_data",
          "data": {
            "text/html": [
              "<div>\n",
              "<style scoped>\n",
              "    .dataframe tbody tr th:only-of-type {\n",
              "        vertical-align: middle;\n",
              "    }\n",
              "\n",
              "    .dataframe tbody tr th {\n",
              "        vertical-align: top;\n",
              "    }\n",
              "\n",
              "    .dataframe thead th {\n",
              "        text-align: right;\n",
              "    }\n",
              "</style>\n",
              "<table border=\"1\" class=\"dataframe\">\n",
              "  <thead>\n",
              "    <tr style=\"text-align: right;\">\n",
              "      <th></th>\n",
              "      <th>buildings</th>\n",
              "      <th>forest</th>\n",
              "      <th>glacier</th>\n",
              "      <th>mountain</th>\n",
              "      <th>sea</th>\n",
              "      <th>street</th>\n",
              "      <th>image_name</th>\n",
              "      <th>ground_label</th>\n",
              "    </tr>\n",
              "  </thead>\n",
              "  <tbody>\n",
              "    <tr>\n",
              "      <th>0</th>\n",
              "      <td>9.092325e-04</td>\n",
              "      <td>2.183200e-06</td>\n",
              "      <td>5.706530e-06</td>\n",
              "      <td>7.388077e-07</td>\n",
              "      <td>0.000007</td>\n",
              "      <td>9.990754e-01</td>\n",
              "      <td>16525.jpg</td>\n",
              "      <td>5</td>\n",
              "    </tr>\n",
              "    <tr>\n",
              "      <th>1</th>\n",
              "      <td>5.602316e-06</td>\n",
              "      <td>8.353445e-06</td>\n",
              "      <td>9.971453e-01</td>\n",
              "      <td>6.419359e-04</td>\n",
              "      <td>0.002160</td>\n",
              "      <td>3.872834e-05</td>\n",
              "      <td>13651.jpg</td>\n",
              "      <td>2</td>\n",
              "    </tr>\n",
              "    <tr>\n",
              "      <th>2</th>\n",
              "      <td>9.999123e-01</td>\n",
              "      <td>5.121162e-07</td>\n",
              "      <td>1.681185e-06</td>\n",
              "      <td>2.146707e-07</td>\n",
              "      <td>0.000002</td>\n",
              "      <td>8.385084e-05</td>\n",
              "      <td>13383.jpg</td>\n",
              "      <td>0</td>\n",
              "    </tr>\n",
              "    <tr>\n",
              "      <th>3</th>\n",
              "      <td>9.999747e-01</td>\n",
              "      <td>1.062802e-06</td>\n",
              "      <td>9.028997e-07</td>\n",
              "      <td>4.206092e-08</td>\n",
              "      <td>0.000002</td>\n",
              "      <td>2.139099e-05</td>\n",
              "      <td>11483.jpg</td>\n",
              "      <td>0</td>\n",
              "    </tr>\n",
              "    <tr>\n",
              "      <th>4</th>\n",
              "      <td>9.372312e-07</td>\n",
              "      <td>1.565652e-06</td>\n",
              "      <td>7.620794e-05</td>\n",
              "      <td>5.744162e-05</td>\n",
              "      <td>0.999864</td>\n",
              "      <td>4.221686e-07</td>\n",
              "      <td>19306.jpg</td>\n",
              "      <td>4</td>\n",
              "    </tr>\n",
              "  </tbody>\n",
              "</table>\n",
              "</div>"
            ],
            "text/plain": [
              "      buildings        forest  ...  image_name  ground_label\n",
              "0  9.092325e-04  2.183200e-06  ...   16525.jpg             5\n",
              "1  5.602316e-06  8.353445e-06  ...   13651.jpg             2\n",
              "2  9.999123e-01  5.121162e-07  ...   13383.jpg             0\n",
              "3  9.999747e-01  1.062802e-06  ...   11483.jpg             0\n",
              "4  9.372312e-07  1.565652e-06  ...   19306.jpg             4\n",
              "\n",
              "[5 rows x 8 columns]"
            ]
          },
          "metadata": {
            "tags": []
          }
        },
        {
          "output_type": "stream",
          "text": [
            "\n",
            "\u001b[1m >> Imagenet resnext 101-next\n"
          ],
          "name": "stdout"
        },
        {
          "output_type": "display_data",
          "data": {
            "text/html": [
              "<div>\n",
              "<style scoped>\n",
              "    .dataframe tbody tr th:only-of-type {\n",
              "        vertical-align: middle;\n",
              "    }\n",
              "\n",
              "    .dataframe tbody tr th {\n",
              "        vertical-align: top;\n",
              "    }\n",
              "\n",
              "    .dataframe thead th {\n",
              "        text-align: right;\n",
              "    }\n",
              "</style>\n",
              "<table border=\"1\" class=\"dataframe\">\n",
              "  <thead>\n",
              "    <tr style=\"text-align: right;\">\n",
              "      <th></th>\n",
              "      <th>buildings</th>\n",
              "      <th>forest</th>\n",
              "      <th>glacier</th>\n",
              "      <th>mountain</th>\n",
              "      <th>sea</th>\n",
              "      <th>street</th>\n",
              "      <th>image_name</th>\n",
              "      <th>ground_label</th>\n",
              "    </tr>\n",
              "  </thead>\n",
              "  <tbody>\n",
              "    <tr>\n",
              "      <th>0</th>\n",
              "      <td>2.867854e-04</td>\n",
              "      <td>1.109198e-07</td>\n",
              "      <td>4.753775e-07</td>\n",
              "      <td>6.784446e-07</td>\n",
              "      <td>0.000001</td>\n",
              "      <td>9.997107e-01</td>\n",
              "      <td>16525.jpg</td>\n",
              "      <td>5</td>\n",
              "    </tr>\n",
              "    <tr>\n",
              "      <th>1</th>\n",
              "      <td>3.549014e-06</td>\n",
              "      <td>3.466793e-06</td>\n",
              "      <td>9.981116e-01</td>\n",
              "      <td>1.817996e-04</td>\n",
              "      <td>0.001692</td>\n",
              "      <td>7.849612e-06</td>\n",
              "      <td>13651.jpg</td>\n",
              "      <td>2</td>\n",
              "    </tr>\n",
              "    <tr>\n",
              "      <th>2</th>\n",
              "      <td>9.994719e-01</td>\n",
              "      <td>5.298385e-07</td>\n",
              "      <td>1.016252e-05</td>\n",
              "      <td>8.807727e-06</td>\n",
              "      <td>0.000008</td>\n",
              "      <td>5.007012e-04</td>\n",
              "      <td>13383.jpg</td>\n",
              "      <td>0</td>\n",
              "    </tr>\n",
              "    <tr>\n",
              "      <th>3</th>\n",
              "      <td>9.999152e-01</td>\n",
              "      <td>4.103639e-07</td>\n",
              "      <td>3.410274e-06</td>\n",
              "      <td>1.052877e-06</td>\n",
              "      <td>0.000002</td>\n",
              "      <td>7.768787e-05</td>\n",
              "      <td>11483.jpg</td>\n",
              "      <td>0</td>\n",
              "    </tr>\n",
              "    <tr>\n",
              "      <th>4</th>\n",
              "      <td>8.912550e-07</td>\n",
              "      <td>3.554716e-07</td>\n",
              "      <td>7.994288e-06</td>\n",
              "      <td>9.838146e-05</td>\n",
              "      <td>0.999892</td>\n",
              "      <td>7.592143e-07</td>\n",
              "      <td>19306.jpg</td>\n",
              "      <td>4</td>\n",
              "    </tr>\n",
              "  </tbody>\n",
              "</table>\n",
              "</div>"
            ],
            "text/plain": [
              "      buildings        forest  ...  image_name  ground_label\n",
              "0  2.867854e-04  1.109198e-07  ...   16525.jpg             5\n",
              "1  3.549014e-06  3.466793e-06  ...   13651.jpg             2\n",
              "2  9.994719e-01  5.298385e-07  ...   13383.jpg             0\n",
              "3  9.999152e-01  4.103639e-07  ...   11483.jpg             0\n",
              "4  8.912550e-07  3.554716e-07  ...   19306.jpg             4\n",
              "\n",
              "[5 rows x 8 columns]"
            ]
          },
          "metadata": {
            "tags": []
          }
        }
      ]
    },
    {
      "cell_type": "markdown",
      "metadata": {
        "id": "HnOXSOwjraC0"
      },
      "source": [
        "# Ensembling"
      ]
    },
    {
      "cell_type": "code",
      "metadata": {
        "colab": {
          "base_uri": "https://localhost:8080/"
        },
        "id": "TDE2_-Xp-_NH",
        "outputId": "9df79c25-ae67-4b94-ae1c-6c151fb61d53"
      },
      "source": [
        "# rn50_plc_val_df.columns\n",
        "label_cols = ['buildings', 'forest', 'glacier', 'mountain', 'sea', 'street']\n",
        "rn101_val_df.columns"
      ],
      "execution_count": 6,
      "outputs": [
        {
          "output_type": "execute_result",
          "data": {
            "text/plain": [
              "Index(['buildings', 'forest', 'glacier', 'mountain', 'sea', 'street',\n",
              "       'image_name', 'ground_label'],\n",
              "      dtype='object')"
            ]
          },
          "metadata": {
            "tags": []
          },
          "execution_count": 6
        }
      ]
    },
    {
      "cell_type": "code",
      "metadata": {
        "colab": {
          "base_uri": "https://localhost:8080/"
        },
        "id": "GZIB96Rl-_NH",
        "outputId": "075d2b75-23b6-4104-8d7a-3237c416c02d"
      },
      "source": [
        "# ground label for validation set\n",
        "val_ground_labels = rn101_val_df['ground_label'].values\n",
        "rn101_val_df['ground_label'].shape"
      ],
      "execution_count": 7,
      "outputs": [
        {
          "output_type": "execute_result",
          "data": {
            "text/plain": [
              "(3407,)"
            ]
          },
          "metadata": {
            "tags": []
          },
          "execution_count": 7
        }
      ]
    },
    {
      "cell_type": "code",
      "metadata": {
        "colab": {
          "base_uri": "https://localhost:8080/"
        },
        "id": "dNi6uk0t-_NH",
        "outputId": "d5de94d3-4d2b-4e93-cd21-fbc13e72b649"
      },
      "source": [
        "# add all probs \n",
        "val_all_sum = rn101_val_df[label_cols].values + rn50_val_df[label_cols].values + rn50_plc_val_df[label_cols].values + sernxt_val_df[label_cols].values\n",
        "val_all_sum.shape"
      ],
      "execution_count": 8,
      "outputs": [
        {
          "output_type": "execute_result",
          "data": {
            "text/plain": [
              "(3407, 6)"
            ]
          },
          "metadata": {
            "tags": []
          },
          "execution_count": 8
        }
      ]
    },
    {
      "cell_type": "code",
      "metadata": {
        "id": "xo8N5e6x-_NH"
      },
      "source": [
        "val_pred = val_all_sum.argmax(1)"
      ],
      "execution_count": 9,
      "outputs": []
    },
    {
      "cell_type": "code",
      "metadata": {
        "colab": {
          "base_uri": "https://localhost:8080/"
        },
        "id": "-P1n4Eoe-_NH",
        "outputId": "862c7e8f-58e7-4649-c476-6a5b0db382db"
      },
      "source": [
        "# Check accuracy for valiadtion set\n",
        "accuracy_score(y_true=val_ground_labels, y_pred=val_pred)"
      ],
      "execution_count": 10,
      "outputs": [
        {
          "output_type": "execute_result",
          "data": {
            "text/plain": [
              "0.9545054299970649"
            ]
          },
          "metadata": {
            "tags": []
          },
          "execution_count": 10
        }
      ]
    },
    {
      "cell_type": "markdown",
      "metadata": {
        "id": "O9lC8OHx-_NH"
      },
      "source": [
        "## validation set accuracy > "
      ]
    },
    {
      "cell_type": "markdown",
      "metadata": {
        "id": "xKmT0mOg-_NH"
      },
      "source": [
        "# Plot Confusion matrix"
      ]
    },
    {
      "cell_type": "code",
      "metadata": {
        "id": "fh15a57o-_NH"
      },
      "source": [
        "label_mapper = {0: 'buildings', 1: 'forest', 2: 'glacier', 3: 'mountain', 4: 'sea', 5: 'street'}"
      ],
      "execution_count": 11,
      "outputs": []
    },
    {
      "cell_type": "code",
      "metadata": {
        "id": "dL1A7reF-_NH"
      },
      "source": [
        "# https://www.kaggle.com/artgor/where-do-the-robots-drive\n",
        "\n",
        "def plot_confusion_matrix(truth, pred, classes, normalize=False, title=''):\n",
        "    cm = confusion_matrix(truth, pred)\n",
        "    if normalize:\n",
        "        cm = cm.astype('float') / cm.sum(axis=1)[:, np.newaxis]\n",
        "    \n",
        "    plt.figure(figsize=(5, 5))\n",
        "    plt.imshow(cm, interpolation='nearest', cmap=plt.cm.Blues)\n",
        "    plt.title('Confusion matrix', size=15)\n",
        "    plt.colorbar(fraction=0.046, pad=0.04)\n",
        "    tick_marks = np.arange(len(classes))\n",
        "    plt.xticks(tick_marks, classes, rotation=90)\n",
        "    plt.yticks(tick_marks, classes)\n",
        "\n",
        "    fmt = '.2f' if normalize else 'd'\n",
        "    thresh = cm.max() / 2.\n",
        "    for i, j in itertools.product(range(cm.shape[0]), range(cm.shape[1])):\n",
        "        plt.text(j, i, format(cm[i, j], fmt),\n",
        "                 horizontalalignment=\"center\",\n",
        "                 color=\"white\" if cm[i, j] > thresh else \"black\")\n",
        "\n",
        "    plt.ylabel('True label')\n",
        "    plt.xlabel('Predicted label')\n",
        "    plt.grid(False)\n",
        "    plt.tight_layout()"
      ],
      "execution_count": 12,
      "outputs": []
    },
    {
      "cell_type": "code",
      "metadata": {
        "colab": {
          "base_uri": "https://localhost:8080/",
          "height": 340
        },
        "id": "F6hil97v-_NH",
        "outputId": "b65e3587-906d-4919-cc89-eb5d61082899"
      },
      "source": [
        "plot_confusion_matrix(pd.Series(val_ground_labels).map(label_mapper), pd.Series(val_pred).map(label_mapper), label_cols)"
      ],
      "execution_count": 13,
      "outputs": [
        {
          "output_type": "display_data",
          "data": {
            "image/png": "[encoded data removed]",
            "text/plain": [
              "<Figure size 360x360 with 2 Axes>"
            ]
          },
          "metadata": {
            "tags": [],
            "needs_background": "light"
          }
        }
      ]
    },
    {
      "cell_type": "markdown",
      "metadata": {
        "id": "bKl2c6py-_NH"
      },
      "source": [
        "# Load augmented test time data probability files."
      ]
    },
    {
      "cell_type": "code",
      "metadata": {
        "id": "BVU4C1pj-_NH"
      },
      "source": [
        "# resnet 50 places 365\n",
        "rn50_plc_test_df = pd.read_csv(Data_path + 'resnet50_places_progressive_resizing/test_probs_tta.csv')\n",
        "\n",
        "# Imagenet resnet 50\n",
        "rn50_test_df = pd.read_csv(Data_path + 'resnet_50_progressive_resizing/test_probs_tta.csv')\n",
        "\n",
        "# Imagenet resnet 101\n",
        "rn101_test_df = pd.read_csv(Data_path + 'resnet_101/test_probs_tta.csv')\n",
        "\n",
        "# Imagenet resnext 101 \n",
        "sernxt_test_df = pd.read_csv(Data_path + 'se_resnext101/test_probs_tta.csv')"
      ],
      "execution_count": 15,
      "outputs": []
    },
    {
      "cell_type": "code",
      "metadata": {
        "id": "MdYiQkUg-_NH"
      },
      "source": [
        "# add probabilities\n",
        "test_all_sum = rn101_test_df[label_cols].values + rn50_test_df[label_cols].values + rn50_plc_test_df[label_cols].values + sernxt_test_df[label_cols].values"
      ],
      "execution_count": 16,
      "outputs": []
    },
    {
      "cell_type": "code",
      "metadata": {
        "id": "XUmWqJyK-_NH"
      },
      "source": [
        "# image file names\n",
        "test_img_names = rn101_test_df['image_name'].values"
      ],
      "execution_count": 17,
      "outputs": []
    },
    {
      "cell_type": "code",
      "metadata": {
        "id": "FpMJC4g2-_NI"
      },
      "source": [
        "# make a submission\n",
        "pd.DataFrame({'image_name': test_img_names, 'label': test_all_sum.argmax(1)}).to_csv('sub.csv', index=False)"
      ],
      "execution_count": 18,
      "outputs": []
    },
    {
      "cell_type": "code",
      "metadata": {
        "id": "8HQL7Q1C-_NI"
      },
      "source": [
        ""
      ],
      "execution_count": null,
      "outputs": []
    }
  ]
}