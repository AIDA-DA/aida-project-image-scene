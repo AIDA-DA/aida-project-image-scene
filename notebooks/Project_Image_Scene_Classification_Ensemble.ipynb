{
  "nbformat": 4,
  "nbformat_minor": 0,
  "metadata": {
    "accelerator": "GPU",
    "colab": {
      "name": "Project - Image Scene  Classification - Ensemble.ipynb",
      "provenance": [],
      "collapsed_sections": [],
      "toc_visible": true,
      "machine_shape": "hm",
      "mount_file_id": "1O_NG6bDwmuIo-ObnbjXHdcs1RU0qt7ul",
      "authorship_tag": "ABX9TyMWQWTZqqmbSnFNcyCo27eq",
      "include_colab_link": true
    },
    "kernelspec": {
      "display_name": "Python 3",
      "name": "python3"
    }
  },
  "cells": [
    {
      "cell_type": "markdown",
      "metadata": {
        "id": "view-in-github",
        "colab_type": "text"
      },
      "source": [
        "<a href=\"https://colab.research.google.com/github/AIDA-DA/aida-project-image-scene/blob/main/notebooks/Project_Image_Scene_Classification_Ensemble.ipynb\" target=\"_parent\"><img src=\"https://colab.research.google.com/assets/colab-badge.svg\" alt=\"Open In Colab\"/></a>"
      ]
    },
    {
      "cell_type": "markdown",
      "metadata": {
        "id": "flUJ0ubLr9Vt"
      },
      "source": [
        "<img src=\"https://storage.googleapis.com/kaggle-datasets-images/130081/310927/007f156e945286c81911147dd952ad22/dataset-cover.jpg?t=2019-03-02-09-45-36\" width=\"100%\">\n",
        "<center><h1>AIDA Final Project</h1></center>\n",
        "<center><p>Image Scene Classification</p></center>"
      ]
    },
    {
      "cell_type": "markdown",
      "metadata": {
        "id": "Dsl8hz2ktXyT"
      },
      "source": [
        "We will use [this](https://www.kaggle.com/puneet6060/intel-image-classification) Kaggle dataset which contains 25k images of the 6 categories. Our goal is to develop an algorithm which can distinguish the different image categories. I this approach I will use Tensorflow Keras together with pretained models provided by the framework."
      ]
    },
    {
      "cell_type": "code",
      "metadata": {
        "id": "61P2EDDEui_D"
      },
      "source": [
        "import tensorflow as tf\n",
        "import numpy as np\n",
        "import os\n",
        "import matplotlib.pyplot as plt"
      ],
      "execution_count": 3,
      "outputs": []
    },
    {
      "cell_type": "code",
      "metadata": {
        "colab": {
          "base_uri": "https://localhost:8080/",
          "height": 36
        },
        "id": "J4Md7fT6SphP",
        "outputId": "2ecd902e-1698-46de-e03a-d52fd96578f7"
      },
      "source": [
        "tf.__version__"
      ],
      "execution_count": 4,
      "outputs": [
        {
          "output_type": "execute_result",
          "data": {
            "application/vnd.google.colaboratory.intrinsic+json": {
              "type": "string"
            },
            "text/plain": [
              "'2.3.0'"
            ]
          },
          "metadata": {
            "tags": []
          },
          "execution_count": 4
        }
      ]
    },
    {
      "cell_type": "code",
      "metadata": {
        "colab": {
          "base_uri": "https://localhost:8080/"
        },
        "id": "YPUySVmoAxJU",
        "outputId": "9ec96551-8d54-4e8d-a64b-a2a4bdd2f3a5"
      },
      "source": [
        "!nvidia-smi"
      ],
      "execution_count": 5,
      "outputs": [
        {
          "output_type": "stream",
          "text": [
            "Thu Dec  3 18:47:03 2020       \n",
            "+-----------------------------------------------------------------------------+\n",
            "| NVIDIA-SMI 455.38       Driver Version: 418.67       CUDA Version: 10.1     |\n",
            "|-------------------------------+----------------------+----------------------+\n",
            "| GPU  Name        Persistence-M| Bus-Id        Disp.A | Volatile Uncorr. ECC |\n",
            "| Fan  Temp  Perf  Pwr:Usage/Cap|         Memory-Usage | GPU-Util  Compute M. |\n",
            "|                               |                      |               MIG M. |\n",
            "|===============================+======================+======================|\n",
            "|   0  Tesla P100-PCIE...  Off  | 00000000:00:04.0 Off |                    0 |\n",
            "| N/A   32C    P0    26W / 250W |      0MiB / 16280MiB |      0%      Default |\n",
            "|                               |                      |                 ERR! |\n",
            "+-------------------------------+----------------------+----------------------+\n",
            "                                                                               \n",
            "+-----------------------------------------------------------------------------+\n",
            "| Processes:                                                                  |\n",
            "|  GPU   GI   CI        PID   Type   Process name                  GPU Memory |\n",
            "|        ID   ID                                                   Usage      |\n",
            "|=============================================================================|\n",
            "|  No running processes found                                                 |\n",
            "+-----------------------------------------------------------------------------+\n"
          ],
          "name": "stdout"
        }
      ]
    },
    {
      "cell_type": "markdown",
      "metadata": {
        "id": "OpiFdX0hv1zu"
      },
      "source": [
        "### Download & Prepare Dataset"
      ]
    },
    {
      "cell_type": "code",
      "metadata": {
        "colab": {
          "base_uri": "https://localhost:8080/"
        },
        "id": "lLOpu7dh0Jt9",
        "outputId": "321bcb1d-a44c-4c91-848d-7db1191deda4"
      },
      "source": [
        "from google.colab import drive \n",
        "drive.mount('/content/drive', force_remount=True)"
      ],
      "execution_count": 6,
      "outputs": [
        {
          "output_type": "stream",
          "text": [
            "Mounted at /content/drive\n"
          ],
          "name": "stdout"
        }
      ]
    },
    {
      "cell_type": "markdown",
      "metadata": {
        "id": "uKSxlTxOyiVj"
      },
      "source": [
        "Download the artist dataset using the Kaggle API. In order to use the Kaggle’s public API, you must first authenticate using an API token. From the site header, click on your user profile picture, then on “My Account” from the dropdown menu. This will take you to your account settings at https://www.kaggle.com/account. Scroll down to the section of the page labelled API:\n",
        "\n",
        "To create a new token, click on the “Create New API Token” button. This will download a fresh authentication token onto your machine. Upload `kaggle.json` into Google Colab Files"
      ]
    },
    {
      "cell_type": "code",
      "metadata": {
        "id": "BuRxwmE2usQf"
      },
      "source": [
        "os.environ[\"KAGGLE_CONFIG_DIR\"] = \"/content\"\n",
        "os.chmod(\"/content\", 600)\n",
        "os.chmod(\"/content/kaggle.json\", 600)"
      ],
      "execution_count": 7,
      "outputs": []
    },
    {
      "cell_type": "markdown",
      "metadata": {
        "id": "sMZCwig5WBri"
      },
      "source": [
        "or set username and API-Key as enviroment variables\n",
        "\n",
        "```\n",
        "os.environ['KAGGLE_USERNAME'] = 'paulbauriegel'\n",
        "os.environ['KAGGLE_KEY'] = '...'\n",
        "```"
      ]
    },
    {
      "cell_type": "markdown",
      "metadata": {
        "id": "PKKEXPXgzFuv"
      },
      "source": [
        "Authenticate and Download Dataset from Kaggle"
      ]
    },
    {
      "cell_type": "code",
      "metadata": {
        "id": "T6vPN6QwvEv8"
      },
      "source": [
        "from kaggle.api.kaggle_api_extended import KaggleApi\n",
        "api = KaggleApi()\n",
        "api.authenticate()"
      ],
      "execution_count": 8,
      "outputs": []
    },
    {
      "cell_type": "code",
      "metadata": {
        "id": "J_afrYiLvHr9"
      },
      "source": [
        "api.dataset_download_files('puneet6060/intel-image-classification', unzip=True)"
      ],
      "execution_count": 9,
      "outputs": []
    },
    {
      "cell_type": "code",
      "metadata": {
        "id": "e-QqMA40vWFH"
      },
      "source": [
        "images_dir = '/content/seg_train/seg_train'\n",
        "class_names = os.listdir(images_dir)\n",
        "n_classes = len(class_names)"
      ],
      "execution_count": 10,
      "outputs": []
    },
    {
      "cell_type": "markdown",
      "metadata": {
        "id": "EbbF3UjG67-o"
      },
      "source": [
        "### Create Image Classification Model"
      ]
    },
    {
      "cell_type": "markdown",
      "metadata": {
        "id": "0MrHAmsxCatV"
      },
      "source": [
        "Import some Keras functionality"
      ]
    },
    {
      "cell_type": "code",
      "metadata": {
        "id": "8pud071_8TlJ"
      },
      "source": [
        "from tensorflow.keras.preprocessing.image import ImageDataGenerator\n",
        "from tensorflow.keras.callbacks import EarlyStopping, ReduceLROnPlateau\n",
        "from tensorflow.keras.optimizers import Adam\n",
        "from tensorflow.keras.applications import ResNet50\n",
        "from tensorflow.keras.models import Model\n",
        "from tensorflow.keras import layers"
      ],
      "execution_count": 11,
      "outputs": []
    },
    {
      "cell_type": "code",
      "metadata": {
        "id": "EKaQuwDaKnpa"
      },
      "source": [
        "IMG_SIZE = 150\n",
        "batch_size = 128"
      ],
      "execution_count": 12,
      "outputs": []
    },
    {
      "cell_type": "markdown",
      "metadata": {
        "id": "1Q_-czHMCf3L"
      },
      "source": [
        "#### Transfer learning and fine-tuning - different approaches\n",
        "\n",
        "With Keras we can use the weights from a pre-trained model. These weights have been trained on a large-scale image-classification task called *imagenet*. We can proceed by different approaches:\n",
        "\n",
        "1. **Feature-Extraction**: Use the pretrained model for Feature-Extraction network and set some classification layers ontop. Use `include_top=False` and freeze the layers of the base model\n",
        "\n",
        "2. **Fine-Tuning**: Unfreeze a few of the top layers of a frozen model base and jointly train both the newly-added classifier layers and the last layers of the base model.\n",
        "\n",
        "    2.1. V1: Un-freeze the top layers of the model - approach used in the [Tensorflow tutorial](https://www.tensorflow.org/tutorials/images/transfer_learning#fine_tuning) and by the [DeepArtist](https://www.kaggle.com/supratimhaldar/deepartist-identify-artist-from-art) implementation. First we train the hole model including the new classification layers\n",
        "\n",
        "    2.2. V2: Opposite Approach - train the hole model for 10 epochs and then train the top 50 layers for 50 epochs\n",
        "\n",
        "    2.3. V3: Train all layers - for 60 epochs"
      ]
    },
    {
      "cell_type": "code",
      "metadata": {
        "id": "oT9gMSN1SB2F"
      },
      "source": [
        "# Train the model - all layers\n",
        "def trainfull_ResNet50(train_gen, val_gen, class_weights=None, \n",
        "                       full_epochs = 50):\n",
        "  early_stop = EarlyStopping(monitor='val_loss', patience=20, verbose=1, \n",
        "                             mode='auto', restore_best_weights=True)\n",
        "\n",
        "  reduce_lr = ReduceLROnPlateau(monitor='val_loss', factor=0.1, patience=5, \n",
        "                                verbose=1, mode='auto')\n",
        "  model = ResNet50(include_top=True, input_shape=(IMG_SIZE, IMG_SIZE, 3), \n",
        "                        classes=n_classes, weights=None, )\n",
        "  model.compile(loss='categorical_crossentropy',\n",
        "                optimizer=Adam(lr=0.0001), \n",
        "                metrics=['accuracy'])\n",
        "  history = model.fit(train_gen, \n",
        "                      #steps_per_epoch=STEP_SIZE_TRAIN,\n",
        "                      validation_data=val_gen, \n",
        "                       #validation_steps=STEP_SIZE_VALID,\n",
        "                      epochs=full_epochs,\n",
        "                      shuffle=True,\n",
        "                      verbose=1,\n",
        "                      callbacks=[reduce_lr],\n",
        "                      class_weight=class_weights)\n",
        "\n",
        "  return model, history"
      ],
      "execution_count": 13,
      "outputs": []
    },
    {
      "cell_type": "code",
      "metadata": {
        "id": "E9c_aM6TJ5pX"
      },
      "source": [
        "# Train the model - all layers\n",
        "def fextraction_ResNet50(train_gen, val_gen, class_weights=None, \n",
        "                   full_epochs = 50):\n",
        "  early_stop = EarlyStopping(monitor='val_loss', patience=20, verbose=1, \n",
        "                             mode='auto', restore_best_weights=True)\n",
        "\n",
        "  reduce_lr = ReduceLROnPlateau(monitor='val_loss', factor=0.1, patience=5, \n",
        "                                verbose=1, mode='auto')\n",
        "  base_model = ResNet50(weights='imagenet', include_top=False, \n",
        "                        input_shape=(IMG_SIZE, IMG_SIZE, 3))\n",
        "\n",
        "  for layer in base_model.layers:\n",
        "      layer.trainable = False\n",
        "\n",
        "  # Add layers at the end\n",
        "  X = base_model.output\n",
        "  X = layers.Flatten()(X)\n",
        "\n",
        "  X = layers.Dense(512, kernel_initializer='he_uniform')(X)\n",
        "  #X = layers.Dropout(0.5)(X)\n",
        "  X = layers.BatchNormalization()(X)\n",
        "  X = layers.Activation('relu')(X)\n",
        "\n",
        "  X = layers.Dense(16, kernel_initializer='he_uniform')(X)\n",
        "  #X = layers.Dropout(0.5)(X)\n",
        "  X = layers.BatchNormalization()(X)\n",
        "  X = layers.Activation('relu')(X)\n",
        "\n",
        "  output = layers.Dense(n_classes, activation='softmax')(X)\n",
        "\n",
        "  model = Model(inputs=base_model.input, outputs=output)\n",
        "  model.compile(loss='categorical_crossentropy',\n",
        "                optimizer=Adam(lr=0.0001), \n",
        "                metrics=['accuracy'])\n",
        "  history = model.fit(train_gen, \n",
        "                      #steps_per_epoch=STEP_SIZE_TRAIN,\n",
        "                      validation_data=val_gen, \n",
        "                       #validation_steps=STEP_SIZE_VALID,\n",
        "                      epochs=full_epochs,\n",
        "                      shuffle=True,\n",
        "                      verbose=1,\n",
        "                      callbacks=[reduce_lr],\n",
        "                      class_weight=class_weights)\n",
        "\n",
        "  return model, history"
      ],
      "execution_count": 14,
      "outputs": []
    },
    {
      "cell_type": "code",
      "metadata": {
        "id": "JgM9Ieqd60sb"
      },
      "source": [
        "# Train the model - all layers\n",
        "def finetune_ResNet50_v1(train_gen, val_gen, class_weights=None, \n",
        "                   full_epochs = 10, fine_epochs = 50):\n",
        "  early_stop = EarlyStopping(monitor='val_loss', patience=20, verbose=1, \n",
        "                             mode='auto', restore_best_weights=True)\n",
        "\n",
        "  reduce_lr = ReduceLROnPlateau(monitor='val_loss', factor=0.1, patience=5, \n",
        "                                verbose=1, mode='auto')\n",
        "  base_model = ResNet50(weights='imagenet', include_top=False, \n",
        "                        input_shape=(IMG_SIZE, IMG_SIZE, 3))\n",
        "\n",
        "  for layer in base_model.layers:\n",
        "      layer.trainable = True\n",
        "\n",
        "  # Add layers at the end\n",
        "  X = base_model.output\n",
        "  X = layers.Flatten()(X)\n",
        "\n",
        "  X = layers.Dense(512, kernel_initializer='he_uniform')(X)\n",
        "  #X = layers.Dropout(0.5)(X)\n",
        "  X = layers.BatchNormalization()(X)\n",
        "  X = layers.Activation('relu')(X)\n",
        "\n",
        "  X = layers.Dense(16, kernel_initializer='he_uniform')(X)\n",
        "  #X = layers.Dropout(0.5)(X)\n",
        "  X = layers.BatchNormalization()(X)\n",
        "  X = layers.Activation('relu')(X)\n",
        "\n",
        "  output = layers.Dense(n_classes, activation='softmax')(X)\n",
        "\n",
        "  model = Model(inputs=base_model.input, outputs=output)\n",
        "  model.compile(loss='categorical_crossentropy',\n",
        "                optimizer=Adam(lr=0.0001), \n",
        "                metrics=['accuracy'])\n",
        "  history1 = model.fit(train_gen, \n",
        "                      #steps_per_epoch=STEP_SIZE_TRAIN,\n",
        "                      validation_data=val_gen, \n",
        "                       #validation_steps=STEP_SIZE_VALID,\n",
        "                      epochs=full_epochs,\n",
        "                      shuffle=True,\n",
        "                      verbose=1,\n",
        "                      callbacks=[reduce_lr],\n",
        "                      class_weight=class_weights)\n",
        "  \n",
        "  # Freeze core ResNet layers and train again \n",
        "  for layer in model.layers:\n",
        "      layer.trainable = False\n",
        "\n",
        "  for layer in model.layers[:50]:\n",
        "      layer.trainable = True\n",
        "\n",
        "  history2 = model.fit(train_gen,  \n",
        "                       #steps_per_epoch=STEP_SIZE_TRAIN,\n",
        "                       validation_data=val_gen, \n",
        "                       #validation_steps=STEP_SIZE_VALID,\n",
        "                       epochs=fine_epochs,\n",
        "                       shuffle=True,\n",
        "                       verbose=1,\n",
        "                       callbacks=[reduce_lr, early_stop],\n",
        "                       class_weight=class_weights )\n",
        "  history = {}\n",
        "  history['loss'] = history1.history['loss'] + history2.history['loss']\n",
        "  history['accuracy'] = history1.history['accuracy'] + history2.history['accuracy']\n",
        "  history['val_loss'] = history1.history['val_loss'] + history2.history['val_loss']\n",
        "  history['val_accuracy'] = history1.history['val_accuracy'] + history2.history['val_accuracy']\n",
        "  history['lr'] = history1.history['lr'] + history2.history['lr']\n",
        "  return model, history"
      ],
      "execution_count": 15,
      "outputs": []
    },
    {
      "cell_type": "code",
      "metadata": {
        "id": "b72Iahx7D3ww"
      },
      "source": [
        "# Train the model - all layers\n",
        "def finetune_ResNet50_v2(train_gen, val_gen, input_tensor, class_weights=None, \n",
        "                   full_epochs = 10, fine_epochs = 50):\n",
        "  early_stop = EarlyStopping(monitor='val_loss', patience=20, verbose=1, \n",
        "                             mode='auto', restore_best_weights=True)\n",
        "\n",
        "  reduce_lr = ReduceLROnPlateau(monitor='val_loss', factor=0.1, patience=5, \n",
        "                                verbose=1, mode='auto')\n",
        "  base_model = ResNet50(weights='imagenet', include_top=False, \n",
        "                        input_tensor=input_tensor)\n",
        "\n",
        "  for layer in base_model.layers:\n",
        "      layer.trainable = True\n",
        "\n",
        "  # Add layers at the end\n",
        "  X = base_model.output\n",
        "  X = layers.Flatten()(X)\n",
        "\n",
        "  X = layers.Dense(512, kernel_initializer='he_uniform')(X)\n",
        "  #X = layers.Dropout(0.5)(X)\n",
        "  X = layers.BatchNormalization()(X)\n",
        "  X = layers.Activation('relu')(X)\n",
        "\n",
        "  X = layers.Dense(16, kernel_initializer='he_uniform')(X)\n",
        "  #X = layers.Dropout(0.5)(X)\n",
        "  X = layers.BatchNormalization()(X)\n",
        "  X = layers.Activation('relu')(X)\n",
        "\n",
        "  output = layers.Dense(n_classes, activation='softmax')(X)\n",
        "\n",
        "  model = Model(inputs=base_model.input, outputs=output)\n",
        "  model.compile(loss='categorical_crossentropy',\n",
        "                optimizer=Adam(lr=0.0001), \n",
        "                metrics=['accuracy'])\n",
        "  history1 = model.fit(train_gen, \n",
        "                      #steps_per_epoch=STEP_SIZE_TRAIN,\n",
        "                      validation_data=val_gen, \n",
        "                       #validation_steps=STEP_SIZE_VALID,\n",
        "                      epochs=full_epochs,\n",
        "                      shuffle=True,\n",
        "                      verbose=1,\n",
        "                      callbacks=[reduce_lr],\n",
        "                      class_weight=class_weights)\n",
        "  \n",
        "  # Freeze core ResNet layers and train again \n",
        "  for layer in model.layers:\n",
        "      layer.trainable = False\n",
        "\n",
        "  for layer in model.layers[-50:]:\n",
        "      layer.trainable = True\n",
        "\n",
        "  history2 = model.fit(train_gen,  #steps_per_epoch=STEP_SIZE_TRAIN,\n",
        "                       validation_data=val_gen, \n",
        "                       #validation_steps=STEP_SIZE_VALID,\n",
        "                       epochs=fine_epochs,\n",
        "                       shuffle=True,\n",
        "                       verbose=1,\n",
        "                       callbacks=[reduce_lr, early_stop],\n",
        "                       class_weight=class_weights )\n",
        "  history = {}\n",
        "  history['loss'] = history1.history['loss'] + history2.history['loss']\n",
        "  history['accuracy'] = history1.history['accuracy'] + history2.history['accuracy']\n",
        "  history['val_loss'] = history1.history['val_loss'] + history2.history['val_loss']\n",
        "  history['val_accuracy'] = history1.history['val_accuracy'] + history2.history['val_accuracy']\n",
        "  history['lr'] = history1.history['lr'] + history2.history['lr']\n",
        "  return model, history"
      ],
      "execution_count": 16,
      "outputs": []
    },
    {
      "cell_type": "code",
      "metadata": {
        "id": "CwYqfQebRqPc"
      },
      "source": [
        "# Train the model - all layers\n",
        "def finetune_ResNet50_v3(train_gen, val_gen, class_weights=None, \n",
        "                   full_epochs = 100):\n",
        "  early_stop = EarlyStopping(monitor='val_loss', patience=20, verbose=1, \n",
        "                             mode='auto', restore_best_weights=True)\n",
        "\n",
        "  reduce_lr = ReduceLROnPlateau(monitor='val_loss', factor=0.1, patience=5, \n",
        "                                verbose=1, mode='auto')\n",
        "  base_model = ResNet50(weights='imagenet', include_top=False, \n",
        "                        input_shape=(IMG_SIZE, IMG_SIZE, 3))\n",
        "\n",
        "  for layer in base_model.layers:\n",
        "      layer.trainable = True\n",
        "\n",
        "  # Add layers at the end\n",
        "  X = base_model.output\n",
        "  X = layers.Flatten()(X)\n",
        "\n",
        "  X = layers.Dense(512, kernel_initializer='he_uniform')(X)\n",
        "  #X = layers.Dropout(0.5)(X)\n",
        "  X = layers.BatchNormalization()(X)\n",
        "  X = layers.Activation('relu')(X)\n",
        "\n",
        "  X = layers.Dense(16, kernel_initializer='he_uniform')(X)\n",
        "  #X = layers.Dropout(0.5)(X)\n",
        "  X = layers.BatchNormalization()(X)\n",
        "  X = layers.Activation('relu')(X)\n",
        "\n",
        "  output = layers.Dense(n_classes, activation='softmax')(X)\n",
        "\n",
        "  model = Model(inputs=base_model.input, outputs=output)\n",
        "  model.compile(loss='categorical_crossentropy',\n",
        "                optimizer=Adam(lr=0.0001), \n",
        "                metrics=['accuracy'])\n",
        "  history = model.fit(train_gen, \n",
        "                      #steps_per_epoch=STEP_SIZE_TRAIN,\n",
        "                      validation_data=val_gen, \n",
        "                       #validation_steps=STEP_SIZE_VALID,\n",
        "                      epochs=full_epochs,\n",
        "                      shuffle=True,\n",
        "                      verbose=1,\n",
        "                      callbacks=[reduce_lr],\n",
        "                      class_weight=class_weights)\n",
        "  return model, history"
      ],
      "execution_count": 17,
      "outputs": []
    },
    {
      "cell_type": "markdown",
      "metadata": {
        "id": "ReGLmEUIwh7k"
      },
      "source": [
        "#### Online Data Augumentation"
      ]
    },
    {
      "cell_type": "code",
      "metadata": {
        "id": "3F6dcPLT8SII"
      },
      "source": [
        "preprocess_gen = ImageDataGenerator(rescale=1./255.,\n",
        "                                   #rotation_range=45,\n",
        "                                   #width_shift_range=0.5,\n",
        "                                   #height_shift_range=0.5,\n",
        "                                   shear_range=5,\n",
        "                                   #zoom_range=0.7,\n",
        "                                   horizontal_flip=True,\n",
        "                                   vertical_flip=True,\n",
        "                                  )"
      ],
      "execution_count": 18,
      "outputs": []
    },
    {
      "cell_type": "code",
      "metadata": {
        "id": "aZUXhUBc_fGJ"
      },
      "source": [
        "# Get path of files\n",
        "l = []\n",
        "import itertools\n",
        "for class_name in os.listdir(images_dir):\n",
        "  l+= [os.path.join(class_name, x) for x in os.listdir(os.path.join(images_dir, class_name))]\n",
        "l_y = [x.split('/')[0] for x in l]"
      ],
      "execution_count": 19,
      "outputs": []
    },
    {
      "cell_type": "markdown",
      "metadata": {
        "id": "re-9JbA0xK2G"
      },
      "source": [
        "#### Visualisation"
      ]
    },
    {
      "cell_type": "code",
      "metadata": {
        "id": "BUI7p9wpxFFE"
      },
      "source": [
        "# Plot the training graph\n",
        "from tensorflow.keras.callbacks import History\n",
        "\n",
        "def plot_history(history):\n",
        "    if isinstance(history, History):\n",
        "      history = history.history\n",
        "    acc = history['accuracy']\n",
        "    val_acc = history['val_accuracy']\n",
        "    loss = history['loss']\n",
        "    val_loss = history['val_loss']\n",
        "    epochs = range(1, len(acc)+1)\n",
        "\n",
        "    fig, axes = plt.subplots(1, 2, figsize=(15,5))\n",
        "    \n",
        "    axes[0].plot(epochs, acc, 'r--', label='Training Accuracy')\n",
        "    axes[0].plot(epochs, val_acc, 'b-', label='Validation Accuracy')\n",
        "    axes[0].set_title('Training and Validation Accuracy')\n",
        "    axes[0].legend(loc='best')\n",
        "\n",
        "    axes[1].plot(epochs, loss, 'r--', label='Training Loss')\n",
        "    axes[1].plot(epochs, val_loss, 'b-', label='Validation Loss')\n",
        "    axes[1].set_title('Training and Validation Loss')\n",
        "    axes[1].legend(loc='best')\n",
        "    \n",
        "    plt.show()"
      ],
      "execution_count": 20,
      "outputs": []
    },
    {
      "cell_type": "markdown",
      "metadata": {
        "id": "GfVKL3lf4sgl"
      },
      "source": [
        "### Model Training"
      ]
    },
    {
      "cell_type": "code",
      "metadata": {
        "colab": {
          "base_uri": "https://localhost:8080/"
        },
        "id": "FsKN4-wPEbMR",
        "outputId": "db664812-99c0-4400-ce99-3072c82dcf09"
      },
      "source": [
        "from tensorflow.keras.preprocessing import image_dataset_from_directory\n",
        "image_generator = image_dataset_from_directory(images_dir, \n",
        "                                               batch_size=1, \n",
        "                                               image_size=(IMG_SIZE, IMG_SIZE),\n",
        "                                               label_mode='categorical',\n",
        "                                               class_names=class_names)"
      ],
      "execution_count": 21,
      "outputs": [
        {
          "output_type": "stream",
          "text": [
            "Found 14034 files belonging to 6 classes.\n"
          ],
          "name": "stdout"
        }
      ]
    },
    {
      "cell_type": "code",
      "metadata": {
        "id": "ILhgsrxLEdiw"
      },
      "source": [
        "X_data,y_data = [np.squeeze(np.array(c)) for c in zip(*image_generator.as_numpy_iterator())]"
      ],
      "execution_count": 22,
      "outputs": []
    },
    {
      "cell_type": "code",
      "metadata": {
        "colab": {
          "base_uri": "https://localhost:8080/"
        },
        "id": "AqTZt3Y2HqAt",
        "outputId": "f172845c-97ba-4823-b35a-281aa75625d8"
      },
      "source": [
        "valid_generator_l = preprocess_gen.flow_from_directory(\n",
        "    directory='/content/seg_test/seg_test',\n",
        "    class_mode='categorical',\n",
        "    target_size=(IMG_SIZE, IMG_SIZE),\n",
        "    batch_size=batch_size,\n",
        "    shuffle=True,\n",
        "    classes=class_names)"
      ],
      "execution_count": 23,
      "outputs": [
        {
          "output_type": "stream",
          "text": [
            "Found 3000 images belonging to 6 classes.\n"
          ],
          "name": "stdout"
        }
      ]
    },
    {
      "cell_type": "code",
      "metadata": {
        "id": "wZlWXVecD_T6"
      },
      "source": [
        "from sklearn.model_selection import KFold"
      ],
      "execution_count": 24,
      "outputs": []
    },
    {
      "cell_type": "code",
      "metadata": {
        "id": "wjWPRwB0Epnb"
      },
      "source": [
        "kfold = KFold(n_splits=4, shuffle=True)\n",
        "input_tensor = layers.Input((IMG_SIZE, IMG_SIZE, 3))"
      ],
      "execution_count": 25,
      "outputs": []
    },
    {
      "cell_type": "code",
      "metadata": {
        "colab": {
          "base_uri": "https://localhost:8080/"
        },
        "id": "7m4ARvhfEyYM",
        "outputId": "d79ec6ba-7b56-48c8-a67b-1bbc1afc9be0"
      },
      "source": [
        "# K-fold Cross Validation model evaluation\n",
        "fold_no = 1\n",
        "models = []\n",
        "hists = []\n",
        "for train, test in kfold.split(X_data, y_data):\n",
        "  train_gen = preprocess_gen.flow(x=X_data[train], y=y_data[train], \n",
        "                                    batch_size=batch_size)\n",
        "  model, hist = finetune_ResNet50_v2(train_gen, valid_generator_l, input_tensor,\n",
        "                                     full_epochs = 10, fine_epochs = 50)\n",
        "  model.save(f'/content/drive/MyDrive/model_resnet_kfold_{fold_no}.h5')\n",
        "  models.append(model)\n",
        "  hists.append(hist)\n",
        "  fold_no +=1"
      ],
      "execution_count": 26,
      "outputs": [
        {
          "output_type": "stream",
          "text": [
            "Downloading data from https://storage.googleapis.com/tensorflow/keras-applications/resnet/resnet50_weights_tf_dim_ordering_tf_kernels_notop.h5\n",
            "94773248/94765736 [==============================] - 1s 0us/step\n",
            "Epoch 1/10\n",
            " 2/83 [..............................] - ETA: 14s - loss: 1.7913 - accuracy: 0.3008WARNING:tensorflow:Callbacks method `on_train_batch_end` is slow compared to the batch time (batch time: 0.1328s vs `on_train_batch_end` time: 0.2128s). Check your callbacks.\n",
            "83/83 [==============================] - 63s 757ms/step - loss: 0.6917 - accuracy: 0.8507 - val_loss: 2.1410 - val_accuracy: 0.1700\n",
            "Epoch 2/10\n",
            "83/83 [==============================] - 60s 727ms/step - loss: 0.4752 - accuracy: 0.9277 - val_loss: 2.0435 - val_accuracy: 0.1633\n",
            "Epoch 3/10\n",
            "83/83 [==============================] - 60s 729ms/step - loss: 0.3980 - accuracy: 0.9495 - val_loss: 2.2412 - val_accuracy: 0.1710\n",
            "Epoch 4/10\n",
            "83/83 [==============================] - 60s 718ms/step - loss: 0.3531 - accuracy: 0.9564 - val_loss: 2.2696 - val_accuracy: 0.1647\n",
            "Epoch 5/10\n",
            "83/83 [==============================] - 60s 718ms/step - loss: 0.3109 - accuracy: 0.9662 - val_loss: 2.0007 - val_accuracy: 0.2787\n",
            "Epoch 6/10\n",
            "83/83 [==============================] - 60s 720ms/step - loss: 0.2722 - accuracy: 0.9732 - val_loss: 1.5888 - val_accuracy: 0.4490\n",
            "Epoch 7/10\n",
            "83/83 [==============================] - 60s 719ms/step - loss: 0.2484 - accuracy: 0.9760 - val_loss: 1.3030 - val_accuracy: 0.6007\n",
            "Epoch 8/10\n",
            "83/83 [==============================] - 59s 710ms/step - loss: 0.2227 - accuracy: 0.9791 - val_loss: 1.1301 - val_accuracy: 0.6753\n",
            "Epoch 9/10\n",
            "83/83 [==============================] - 59s 711ms/step - loss: 0.2036 - accuracy: 0.9811 - val_loss: 0.7116 - val_accuracy: 0.7923\n",
            "Epoch 10/10\n",
            "83/83 [==============================] - 59s 708ms/step - loss: 0.1826 - accuracy: 0.9843 - val_loss: 0.6191 - val_accuracy: 0.8390\n",
            "Epoch 1/50\n",
            "83/83 [==============================] - 59s 717ms/step - loss: 0.1648 - accuracy: 0.9875 - val_loss: 0.4693 - val_accuracy: 0.8803\n",
            "Epoch 2/50\n",
            "83/83 [==============================] - 59s 706ms/step - loss: 0.1470 - accuracy: 0.9892 - val_loss: 0.4413 - val_accuracy: 0.8937\n",
            "Epoch 3/50\n",
            "83/83 [==============================] - 59s 705ms/step - loss: 0.1393 - accuracy: 0.9893 - val_loss: 0.3692 - val_accuracy: 0.9057\n",
            "Epoch 4/50\n",
            "83/83 [==============================] - 58s 704ms/step - loss: 0.1264 - accuracy: 0.9916 - val_loss: 0.3680 - val_accuracy: 0.9100\n",
            "Epoch 5/50\n",
            "83/83 [==============================] - 58s 704ms/step - loss: 0.1188 - accuracy: 0.9904 - val_loss: 0.3354 - val_accuracy: 0.9163\n",
            "Epoch 6/50\n",
            "83/83 [==============================] - 59s 705ms/step - loss: 0.1104 - accuracy: 0.9913 - val_loss: 0.3396 - val_accuracy: 0.9183\n",
            "Epoch 7/50\n",
            "83/83 [==============================] - 60s 719ms/step - loss: 0.1124 - accuracy: 0.9867 - val_loss: 0.4252 - val_accuracy: 0.8887\n",
            "Epoch 8/50\n",
            "83/83 [==============================] - 60s 726ms/step - loss: 0.1119 - accuracy: 0.9864 - val_loss: 0.3848 - val_accuracy: 0.8970\n",
            "Epoch 9/50\n",
            "83/83 [==============================] - 61s 729ms/step - loss: 0.0987 - accuracy: 0.9893 - val_loss: 0.3841 - val_accuracy: 0.8963\n",
            "Epoch 10/50\n",
            "83/83 [==============================] - ETA: 0s - loss: 0.0996 - accuracy: 0.9863\n",
            "Epoch 00010: ReduceLROnPlateau reducing learning rate to 9.999999747378752e-06.\n",
            "83/83 [==============================] - 61s 734ms/step - loss: 0.0996 - accuracy: 0.9863 - val_loss: 0.3802 - val_accuracy: 0.8983\n",
            "Epoch 11/50\n",
            "83/83 [==============================] - 61s 732ms/step - loss: 0.0811 - accuracy: 0.9921 - val_loss: 0.3064 - val_accuracy: 0.9203\n",
            "Epoch 12/50\n",
            "83/83 [==============================] - 59s 706ms/step - loss: 0.0702 - accuracy: 0.9962 - val_loss: 0.3046 - val_accuracy: 0.9240\n",
            "Epoch 13/50\n",
            "83/83 [==============================] - 58s 703ms/step - loss: 0.0677 - accuracy: 0.9963 - val_loss: 0.2807 - val_accuracy: 0.9297\n",
            "Epoch 14/50\n",
            "83/83 [==============================] - 58s 698ms/step - loss: 0.0640 - accuracy: 0.9978 - val_loss: 0.2892 - val_accuracy: 0.9267\n",
            "Epoch 15/50\n",
            "83/83 [==============================] - 58s 700ms/step - loss: 0.0625 - accuracy: 0.9980 - val_loss: 0.2893 - val_accuracy: 0.9270\n",
            "Epoch 16/50\n",
            "83/83 [==============================] - 58s 699ms/step - loss: 0.0619 - accuracy: 0.9980 - val_loss: 0.2827 - val_accuracy: 0.9283\n",
            "Epoch 17/50\n",
            "83/83 [==============================] - 58s 700ms/step - loss: 0.0598 - accuracy: 0.9981 - val_loss: 0.2924 - val_accuracy: 0.9250\n",
            "Epoch 18/50\n",
            "83/83 [==============================] - ETA: 0s - loss: 0.0600 - accuracy: 0.9982\n",
            "Epoch 00018: ReduceLROnPlateau reducing learning rate to 9.999999747378752e-07.\n",
            "83/83 [==============================] - 60s 717ms/step - loss: 0.0600 - accuracy: 0.9982 - val_loss: 0.2844 - val_accuracy: 0.9303\n",
            "Epoch 19/50\n",
            "83/83 [==============================] - 58s 704ms/step - loss: 0.0596 - accuracy: 0.9990 - val_loss: 0.2937 - val_accuracy: 0.9297\n",
            "Epoch 20/50\n",
            "83/83 [==============================] - 58s 695ms/step - loss: 0.0590 - accuracy: 0.9986 - val_loss: 0.2903 - val_accuracy: 0.9297\n",
            "Epoch 21/50\n",
            "83/83 [==============================] - 58s 696ms/step - loss: 0.0595 - accuracy: 0.9982 - val_loss: 0.2938 - val_accuracy: 0.9263\n",
            "Epoch 22/50\n",
            "83/83 [==============================] - 58s 697ms/step - loss: 0.0582 - accuracy: 0.9988 - val_loss: 0.2894 - val_accuracy: 0.9287\n",
            "Epoch 23/50\n",
            "83/83 [==============================] - ETA: 0s - loss: 0.0584 - accuracy: 0.9985\n",
            "Epoch 00023: ReduceLROnPlateau reducing learning rate to 9.999999974752428e-08.\n",
            "83/83 [==============================] - 58s 693ms/step - loss: 0.0584 - accuracy: 0.9985 - val_loss: 0.2837 - val_accuracy: 0.9313\n",
            "Epoch 24/50\n",
            "83/83 [==============================] - 58s 697ms/step - loss: 0.0585 - accuracy: 0.9987 - val_loss: 0.2901 - val_accuracy: 0.9287\n",
            "Epoch 25/50\n",
            "83/83 [==============================] - 58s 696ms/step - loss: 0.0587 - accuracy: 0.9981 - val_loss: 0.2954 - val_accuracy: 0.9263\n",
            "Epoch 26/50\n",
            "83/83 [==============================] - 58s 697ms/step - loss: 0.0585 - accuracy: 0.9983 - val_loss: 0.2871 - val_accuracy: 0.9293\n",
            "Epoch 27/50\n",
            "83/83 [==============================] - 58s 697ms/step - loss: 0.0580 - accuracy: 0.9983 - val_loss: 0.2980 - val_accuracy: 0.9260\n",
            "Epoch 28/50\n",
            "83/83 [==============================] - ETA: 0s - loss: 0.0584 - accuracy: 0.9990\n",
            "Epoch 00028: ReduceLROnPlateau reducing learning rate to 1.0000000116860975e-08.\n",
            "83/83 [==============================] - 58s 697ms/step - loss: 0.0584 - accuracy: 0.9990 - val_loss: 0.2869 - val_accuracy: 0.9283\n",
            "Epoch 29/50\n",
            "83/83 [==============================] - 58s 695ms/step - loss: 0.0578 - accuracy: 0.9987 - val_loss: 0.2913 - val_accuracy: 0.9283\n",
            "Epoch 30/50\n",
            "83/83 [==============================] - 58s 697ms/step - loss: 0.0583 - accuracy: 0.9988 - val_loss: 0.2989 - val_accuracy: 0.9277\n",
            "Epoch 31/50\n",
            "83/83 [==============================] - 58s 697ms/step - loss: 0.0588 - accuracy: 0.9984 - val_loss: 0.2852 - val_accuracy: 0.9290\n",
            "Epoch 32/50\n",
            "83/83 [==============================] - 58s 703ms/step - loss: 0.0579 - accuracy: 0.9986 - val_loss: 0.2864 - val_accuracy: 0.9310\n",
            "Epoch 33/50\n",
            "83/83 [==============================] - ETA: 0s - loss: 0.0583 - accuracy: 0.9984\n",
            "Epoch 00033: ReduceLROnPlateau reducing learning rate to 9.999999939225292e-10.\n",
            "Restoring model weights from the end of the best epoch.\n",
            "83/83 [==============================] - 58s 694ms/step - loss: 0.0583 - accuracy: 0.9984 - val_loss: 0.2837 - val_accuracy: 0.9297\n",
            "Epoch 00033: early stopping\n",
            "Epoch 1/10\n",
            "83/83 [==============================] - 60s 726ms/step - loss: 0.7355 - accuracy: 0.8498 - val_loss: 1.8617 - val_accuracy: 0.1700\n",
            "Epoch 2/10\n",
            "83/83 [==============================] - 58s 697ms/step - loss: 0.5157 - accuracy: 0.9291 - val_loss: 1.8235 - val_accuracy: 0.1700\n",
            "Epoch 3/10\n",
            "83/83 [==============================] - 57s 691ms/step - loss: 0.4420 - accuracy: 0.9481 - val_loss: 1.8026 - val_accuracy: 0.2007\n",
            "Epoch 4/10\n",
            "83/83 [==============================] - 58s 697ms/step - loss: 0.3935 - accuracy: 0.9567 - val_loss: 1.7858 - val_accuracy: 0.1773\n",
            "Epoch 5/10\n",
            "83/83 [==============================] - 58s 693ms/step - loss: 0.3452 - accuracy: 0.9676 - val_loss: 1.7377 - val_accuracy: 0.2957\n",
            "Epoch 6/10\n",
            "83/83 [==============================] - 58s 693ms/step - loss: 0.3116 - accuracy: 0.9734 - val_loss: 1.4139 - val_accuracy: 0.4760\n",
            "Epoch 7/10\n",
            "83/83 [==============================] - 58s 694ms/step - loss: 0.2868 - accuracy: 0.9756 - val_loss: 1.0706 - val_accuracy: 0.6563\n",
            "Epoch 8/10\n",
            "83/83 [==============================] - 57s 688ms/step - loss: 0.2532 - accuracy: 0.9797 - val_loss: 0.8966 - val_accuracy: 0.7337\n",
            "Epoch 9/10\n",
            "83/83 [==============================] - 57s 689ms/step - loss: 0.2329 - accuracy: 0.9821 - val_loss: 0.7222 - val_accuracy: 0.7933\n",
            "Epoch 10/10\n",
            "83/83 [==============================] - 57s 691ms/step - loss: 0.2143 - accuracy: 0.9828 - val_loss: 0.5435 - val_accuracy: 0.8653\n",
            "Epoch 1/50\n",
            "83/83 [==============================] - 58s 695ms/step - loss: 0.1913 - accuracy: 0.9851 - val_loss: 0.4633 - val_accuracy: 0.8910\n",
            "Epoch 2/50\n",
            "83/83 [==============================] - 57s 687ms/step - loss: 0.1890 - accuracy: 0.9827 - val_loss: 0.5000 - val_accuracy: 0.8713\n",
            "Epoch 3/50\n",
            "83/83 [==============================] - 57s 691ms/step - loss: 0.1664 - accuracy: 0.9864 - val_loss: 0.3766 - val_accuracy: 0.9137\n",
            "Epoch 4/50\n",
            "83/83 [==============================] - 57s 692ms/step - loss: 0.1552 - accuracy: 0.9860 - val_loss: 0.3491 - val_accuracy: 0.9163\n",
            "Epoch 5/50\n",
            "83/83 [==============================] - 57s 687ms/step - loss: 0.1436 - accuracy: 0.9868 - val_loss: 0.3546 - val_accuracy: 0.9107\n",
            "Epoch 6/50\n",
            "83/83 [==============================] - 57s 687ms/step - loss: 0.1377 - accuracy: 0.9876 - val_loss: 0.3638 - val_accuracy: 0.9090\n",
            "Epoch 7/50\n",
            "83/83 [==============================] - 57s 684ms/step - loss: 0.1207 - accuracy: 0.9911 - val_loss: 0.3477 - val_accuracy: 0.9093\n",
            "Epoch 8/50\n",
            "83/83 [==============================] - 57s 688ms/step - loss: 0.1210 - accuracy: 0.9883 - val_loss: 0.3721 - val_accuracy: 0.9060\n",
            "Epoch 9/50\n",
            "83/83 [==============================] - 57s 688ms/step - loss: 0.1072 - accuracy: 0.9905 - val_loss: 0.3197 - val_accuracy: 0.9187\n",
            "Epoch 10/50\n",
            "83/83 [==============================] - 57s 690ms/step - loss: 0.0973 - accuracy: 0.9921 - val_loss: 0.3193 - val_accuracy: 0.9173\n",
            "Epoch 11/50\n",
            "83/83 [==============================] - 57s 689ms/step - loss: 0.0949 - accuracy: 0.9915 - val_loss: 0.2972 - val_accuracy: 0.9247\n",
            "Epoch 12/50\n",
            "83/83 [==============================] - 57s 686ms/step - loss: 0.0874 - accuracy: 0.9916 - val_loss: 0.3383 - val_accuracy: 0.9127\n",
            "Epoch 13/50\n",
            "83/83 [==============================] - 57s 685ms/step - loss: 0.0900 - accuracy: 0.9900 - val_loss: 0.3177 - val_accuracy: 0.9183\n",
            "Epoch 14/50\n",
            "83/83 [==============================] - 57s 686ms/step - loss: 0.0779 - accuracy: 0.9919 - val_loss: 0.2968 - val_accuracy: 0.9230\n",
            "Epoch 15/50\n",
            "83/83 [==============================] - 57s 685ms/step - loss: 0.0721 - accuracy: 0.9936 - val_loss: 0.3226 - val_accuracy: 0.9150\n",
            "Epoch 16/50\n",
            "83/83 [==============================] - 57s 686ms/step - loss: 0.0719 - accuracy: 0.9921 - val_loss: 0.3235 - val_accuracy: 0.9143\n",
            "Epoch 17/50\n",
            "83/83 [==============================] - 57s 683ms/step - loss: 0.0669 - accuracy: 0.9926 - val_loss: 0.3092 - val_accuracy: 0.9180\n",
            "Epoch 18/50\n",
            "83/83 [==============================] - 57s 686ms/step - loss: 0.0605 - accuracy: 0.9939 - val_loss: 0.3544 - val_accuracy: 0.9097\n",
            "Epoch 19/50\n",
            "83/83 [==============================] - ETA: 0s - loss: 0.0598 - accuracy: 0.9936\n",
            "Epoch 00019: ReduceLROnPlateau reducing learning rate to 9.999999747378752e-06.\n",
            "83/83 [==============================] - 57s 683ms/step - loss: 0.0598 - accuracy: 0.9936 - val_loss: 0.3331 - val_accuracy: 0.9103\n",
            "Epoch 20/50\n",
            "83/83 [==============================] - 57s 687ms/step - loss: 0.0530 - accuracy: 0.9951 - val_loss: 0.3010 - val_accuracy: 0.9213\n",
            "Epoch 21/50\n",
            "83/83 [==============================] - 57s 686ms/step - loss: 0.0472 - accuracy: 0.9971 - val_loss: 0.2780 - val_accuracy: 0.9247\n",
            "Epoch 22/50\n",
            "83/83 [==============================] - 57s 683ms/step - loss: 0.0446 - accuracy: 0.9986 - val_loss: 0.2749 - val_accuracy: 0.9300\n",
            "Epoch 23/50\n",
            "83/83 [==============================] - 57s 689ms/step - loss: 0.0440 - accuracy: 0.9987 - val_loss: 0.2755 - val_accuracy: 0.9283\n",
            "Epoch 24/50\n",
            "83/83 [==============================] - 57s 685ms/step - loss: 0.0424 - accuracy: 0.9985 - val_loss: 0.2617 - val_accuracy: 0.9327\n",
            "Epoch 25/50\n",
            "83/83 [==============================] - 56s 679ms/step - loss: 0.0428 - accuracy: 0.9985 - val_loss: 0.2782 - val_accuracy: 0.9270\n",
            "Epoch 26/50\n",
            "83/83 [==============================] - 56s 676ms/step - loss: 0.0418 - accuracy: 0.9984 - val_loss: 0.2754 - val_accuracy: 0.9290\n",
            "Epoch 27/50\n",
            "83/83 [==============================] - 57s 693ms/step - loss: 0.0416 - accuracy: 0.9990 - val_loss: 0.2656 - val_accuracy: 0.9350\n",
            "Epoch 28/50\n",
            "83/83 [==============================] - 58s 694ms/step - loss: 0.0405 - accuracy: 0.9989 - val_loss: 0.2735 - val_accuracy: 0.9290\n",
            "Epoch 29/50\n",
            "83/83 [==============================] - 57s 685ms/step - loss: 0.0422 - accuracy: 0.9985 - val_loss: 0.2606 - val_accuracy: 0.9363\n",
            "Epoch 30/50\n",
            "83/83 [==============================] - 57s 691ms/step - loss: 0.0395 - accuracy: 0.9990 - val_loss: 0.2750 - val_accuracy: 0.9307\n",
            "Epoch 31/50\n",
            "83/83 [==============================] - 57s 687ms/step - loss: 0.0391 - accuracy: 0.9990 - val_loss: 0.2640 - val_accuracy: 0.9353\n",
            "Epoch 32/50\n",
            "83/83 [==============================] - 57s 689ms/step - loss: 0.0382 - accuracy: 0.9992 - val_loss: 0.2578 - val_accuracy: 0.9370\n",
            "Epoch 33/50\n",
            "83/83 [==============================] - 57s 691ms/step - loss: 0.0371 - accuracy: 0.9994 - val_loss: 0.2699 - val_accuracy: 0.9323\n",
            "Epoch 34/50\n",
            "83/83 [==============================] - 57s 691ms/step - loss: 0.0376 - accuracy: 0.9990 - val_loss: 0.2689 - val_accuracy: 0.9320\n",
            "Epoch 35/50\n",
            "83/83 [==============================] - 57s 688ms/step - loss: 0.0373 - accuracy: 0.9992 - val_loss: 0.2622 - val_accuracy: 0.9337\n",
            "Epoch 36/50\n",
            "83/83 [==============================] - 57s 690ms/step - loss: 0.0372 - accuracy: 0.9990 - val_loss: 0.2738 - val_accuracy: 0.9327\n",
            "Epoch 37/50\n",
            "83/83 [==============================] - 58s 695ms/step - loss: 0.0361 - accuracy: 0.9990 - val_loss: 0.2525 - val_accuracy: 0.9360\n",
            "Epoch 38/50\n",
            "83/83 [==============================] - 57s 683ms/step - loss: 0.0356 - accuracy: 0.9992 - val_loss: 0.2618 - val_accuracy: 0.9330\n",
            "Epoch 39/50\n",
            "83/83 [==============================] - 57s 685ms/step - loss: 0.0365 - accuracy: 0.9989 - val_loss: 0.2593 - val_accuracy: 0.9337\n",
            "Epoch 40/50\n",
            "83/83 [==============================] - 57s 687ms/step - loss: 0.0360 - accuracy: 0.9990 - val_loss: 0.2666 - val_accuracy: 0.9320\n",
            "Epoch 41/50\n",
            "83/83 [==============================] - 57s 685ms/step - loss: 0.0346 - accuracy: 0.9994 - val_loss: 0.2645 - val_accuracy: 0.9327\n",
            "Epoch 42/50\n",
            "83/83 [==============================] - ETA: 0s - loss: 0.0341 - accuracy: 0.9991\n",
            "Epoch 00042: ReduceLROnPlateau reducing learning rate to 9.999999747378752e-07.\n",
            "83/83 [==============================] - 57s 682ms/step - loss: 0.0341 - accuracy: 0.9991 - val_loss: 0.2679 - val_accuracy: 0.9317\n",
            "Epoch 43/50\n",
            "83/83 [==============================] - 57s 690ms/step - loss: 0.0338 - accuracy: 0.9993 - val_loss: 0.2786 - val_accuracy: 0.9347\n",
            "Epoch 44/50\n",
            "83/83 [==============================] - 57s 683ms/step - loss: 0.0342 - accuracy: 0.9994 - val_loss: 0.2643 - val_accuracy: 0.9340\n",
            "Epoch 45/50\n",
            "83/83 [==============================] - 57s 691ms/step - loss: 0.0334 - accuracy: 0.9993 - val_loss: 0.2687 - val_accuracy: 0.9333\n",
            "Epoch 46/50\n",
            "83/83 [==============================] - 57s 682ms/step - loss: 0.0341 - accuracy: 0.9993 - val_loss: 0.2692 - val_accuracy: 0.9363\n",
            "Epoch 47/50\n",
            "83/83 [==============================] - ETA: 0s - loss: 0.0335 - accuracy: 0.9994\n",
            "Epoch 00047: ReduceLROnPlateau reducing learning rate to 9.999999974752428e-08.\n",
            "83/83 [==============================] - 57s 684ms/step - loss: 0.0335 - accuracy: 0.9994 - val_loss: 0.2642 - val_accuracy: 0.9320\n",
            "Epoch 48/50\n",
            "83/83 [==============================] - 57s 685ms/step - loss: 0.0333 - accuracy: 0.9994 - val_loss: 0.2573 - val_accuracy: 0.9353\n",
            "Epoch 49/50\n",
            "83/83 [==============================] - 57s 685ms/step - loss: 0.0335 - accuracy: 0.9994 - val_loss: 0.2670 - val_accuracy: 0.9333\n",
            "Epoch 50/50\n",
            "83/83 [==============================] - 57s 682ms/step - loss: 0.0341 - accuracy: 0.9991 - val_loss: 0.2656 - val_accuracy: 0.9353\n",
            "Epoch 1/10\n",
            "83/83 [==============================] - 59s 714ms/step - loss: 0.6567 - accuracy: 0.8640 - val_loss: 1.8743 - val_accuracy: 0.1390\n",
            "Epoch 2/10\n",
            "83/83 [==============================] - 57s 690ms/step - loss: 0.4511 - accuracy: 0.9344 - val_loss: 1.8577 - val_accuracy: 0.1510\n",
            "Epoch 3/10\n",
            "83/83 [==============================] - 58s 694ms/step - loss: 0.3846 - accuracy: 0.9513 - val_loss: 1.8524 - val_accuracy: 0.1540\n",
            "Epoch 4/10\n",
            "83/83 [==============================] - 57s 690ms/step - loss: 0.3336 - accuracy: 0.9620 - val_loss: 1.8533 - val_accuracy: 0.2193\n",
            "Epoch 5/10\n",
            "83/83 [==============================] - 57s 688ms/step - loss: 0.3026 - accuracy: 0.9667 - val_loss: 1.6226 - val_accuracy: 0.3823\n",
            "Epoch 6/10\n",
            "83/83 [==============================] - 57s 685ms/step - loss: 0.2629 - accuracy: 0.9744 - val_loss: 1.3508 - val_accuracy: 0.5327\n",
            "Epoch 7/10\n",
            "83/83 [==============================] - 57s 682ms/step - loss: 0.2361 - accuracy: 0.9782 - val_loss: 1.2383 - val_accuracy: 0.5950\n",
            "Epoch 8/10\n",
            "83/83 [==============================] - 57s 684ms/step - loss: 0.2114 - accuracy: 0.9809 - val_loss: 0.8480 - val_accuracy: 0.7460\n",
            "Epoch 9/10\n",
            "83/83 [==============================] - 57s 684ms/step - loss: 0.1941 - accuracy: 0.9843 - val_loss: 0.7026 - val_accuracy: 0.7890\n",
            "Epoch 10/10\n",
            "83/83 [==============================] - 57s 687ms/step - loss: 0.1833 - accuracy: 0.9830 - val_loss: 0.5867 - val_accuracy: 0.8347\n",
            "Epoch 1/50\n",
            "83/83 [==============================] - 57s 692ms/step - loss: 0.1670 - accuracy: 0.9840 - val_loss: 0.4645 - val_accuracy: 0.8747\n",
            "Epoch 2/50\n",
            "83/83 [==============================] - 57s 687ms/step - loss: 0.1495 - accuracy: 0.9865 - val_loss: 0.4164 - val_accuracy: 0.8887\n",
            "Epoch 3/50\n",
            "83/83 [==============================] - 56s 680ms/step - loss: 0.1352 - accuracy: 0.9895 - val_loss: 0.3845 - val_accuracy: 0.9013\n",
            "Epoch 4/50\n",
            "83/83 [==============================] - 57s 683ms/step - loss: 0.1225 - accuracy: 0.9918 - val_loss: 0.3634 - val_accuracy: 0.9080\n",
            "Epoch 5/50\n",
            "83/83 [==============================] - 57s 686ms/step - loss: 0.1239 - accuracy: 0.9867 - val_loss: 0.3204 - val_accuracy: 0.9157\n",
            "Epoch 6/50\n",
            "83/83 [==============================] - 57s 683ms/step - loss: 0.1098 - accuracy: 0.9900 - val_loss: 0.3289 - val_accuracy: 0.9180\n",
            "Epoch 7/50\n",
            "83/83 [==============================] - 56s 680ms/step - loss: 0.1091 - accuracy: 0.9892 - val_loss: 0.3242 - val_accuracy: 0.9163\n",
            "Epoch 8/50\n",
            "83/83 [==============================] - 57s 682ms/step - loss: 0.0997 - accuracy: 0.9897 - val_loss: 0.3155 - val_accuracy: 0.9220\n",
            "Epoch 9/50\n",
            "83/83 [==============================] - 57s 688ms/step - loss: 0.0827 - accuracy: 0.9939 - val_loss: 0.3542 - val_accuracy: 0.9100\n",
            "Epoch 10/50\n",
            "83/83 [==============================] - 57s 684ms/step - loss: 0.0847 - accuracy: 0.9906 - val_loss: 0.3416 - val_accuracy: 0.9077\n",
            "Epoch 11/50\n",
            "83/83 [==============================] - 57s 683ms/step - loss: 0.0850 - accuracy: 0.9907 - val_loss: 0.4246 - val_accuracy: 0.8793\n",
            "Epoch 12/50\n",
            "83/83 [==============================] - 57s 684ms/step - loss: 0.0850 - accuracy: 0.9887 - val_loss: 0.3874 - val_accuracy: 0.8930\n",
            "Epoch 13/50\n",
            "83/83 [==============================] - 57s 688ms/step - loss: 0.0747 - accuracy: 0.9918 - val_loss: 0.3072 - val_accuracy: 0.9153\n",
            "Epoch 14/50\n",
            "83/83 [==============================] - 57s 683ms/step - loss: 0.0670 - accuracy: 0.9934 - val_loss: 0.3445 - val_accuracy: 0.8993\n",
            "Epoch 15/50\n",
            "83/83 [==============================] - 57s 689ms/step - loss: 0.0612 - accuracy: 0.9942 - val_loss: 0.3301 - val_accuracy: 0.9090\n",
            "Epoch 16/50\n",
            "83/83 [==============================] - 57s 691ms/step - loss: 0.0606 - accuracy: 0.9932 - val_loss: 0.3349 - val_accuracy: 0.9167\n",
            "Epoch 17/50\n",
            "83/83 [==============================] - 57s 685ms/step - loss: 0.0566 - accuracy: 0.9938 - val_loss: 0.3532 - val_accuracy: 0.9103\n",
            "Epoch 18/50\n",
            "83/83 [==============================] - 57s 686ms/step - loss: 0.0520 - accuracy: 0.9944 - val_loss: 0.3036 - val_accuracy: 0.9207\n",
            "Epoch 19/50\n",
            "83/83 [==============================] - 57s 682ms/step - loss: 0.0514 - accuracy: 0.9940 - val_loss: 0.3263 - val_accuracy: 0.9170\n",
            "Epoch 20/50\n",
            "83/83 [==============================] - 57s 684ms/step - loss: 0.0469 - accuracy: 0.9943 - val_loss: 0.3151 - val_accuracy: 0.9140\n",
            "Epoch 21/50\n",
            "83/83 [==============================] - 57s 682ms/step - loss: 0.0483 - accuracy: 0.9941 - val_loss: 0.3181 - val_accuracy: 0.9140\n",
            "Epoch 22/50\n",
            "83/83 [==============================] - 56s 678ms/step - loss: 0.0493 - accuracy: 0.9933 - val_loss: 0.3428 - val_accuracy: 0.9073\n",
            "Epoch 23/50\n",
            "83/83 [==============================] - ETA: 0s - loss: 0.0416 - accuracy: 0.9952\n",
            "Epoch 00023: ReduceLROnPlateau reducing learning rate to 9.999999747378752e-06.\n",
            "83/83 [==============================] - 56s 674ms/step - loss: 0.0416 - accuracy: 0.9952 - val_loss: 0.3153 - val_accuracy: 0.9160\n",
            "Epoch 24/50\n",
            "83/83 [==============================] - 56s 681ms/step - loss: 0.0371 - accuracy: 0.9971 - val_loss: 0.2787 - val_accuracy: 0.9300\n",
            "Epoch 25/50\n",
            "83/83 [==============================] - 57s 682ms/step - loss: 0.0313 - accuracy: 0.9981 - val_loss: 0.2897 - val_accuracy: 0.9257\n",
            "Epoch 26/50\n",
            "83/83 [==============================] - 56s 679ms/step - loss: 0.0298 - accuracy: 0.9986 - val_loss: 0.2756 - val_accuracy: 0.9297\n",
            "Epoch 27/50\n",
            "83/83 [==============================] - 57s 684ms/step - loss: 0.0299 - accuracy: 0.9977 - val_loss: 0.2871 - val_accuracy: 0.9267\n",
            "Epoch 28/50\n",
            "83/83 [==============================] - 57s 684ms/step - loss: 0.0284 - accuracy: 0.9990 - val_loss: 0.2725 - val_accuracy: 0.9327\n",
            "Epoch 29/50\n",
            "83/83 [==============================] - 57s 683ms/step - loss: 0.0266 - accuracy: 0.9991 - val_loss: 0.2801 - val_accuracy: 0.9317\n",
            "Epoch 30/50\n",
            "83/83 [==============================] - 57s 684ms/step - loss: 0.0262 - accuracy: 0.9991 - val_loss: 0.2822 - val_accuracy: 0.9287\n",
            "Epoch 31/50\n",
            "83/83 [==============================] - 57s 691ms/step - loss: 0.0265 - accuracy: 0.9990 - val_loss: 0.2773 - val_accuracy: 0.9310\n",
            "Epoch 32/50\n",
            "83/83 [==============================] - 57s 685ms/step - loss: 0.0260 - accuracy: 0.9995 - val_loss: 0.2776 - val_accuracy: 0.9307\n",
            "Epoch 33/50\n",
            "83/83 [==============================] - ETA: 0s - loss: 0.0253 - accuracy: 0.9993\n",
            "Epoch 00033: ReduceLROnPlateau reducing learning rate to 9.999999747378752e-07.\n",
            "83/83 [==============================] - 57s 686ms/step - loss: 0.0253 - accuracy: 0.9993 - val_loss: 0.2800 - val_accuracy: 0.9280\n",
            "Epoch 34/50\n",
            "83/83 [==============================] - 56s 680ms/step - loss: 0.0254 - accuracy: 0.9993 - val_loss: 0.2876 - val_accuracy: 0.9280\n",
            "Epoch 35/50\n",
            "83/83 [==============================] - 57s 682ms/step - loss: 0.0247 - accuracy: 0.9992 - val_loss: 0.2763 - val_accuracy: 0.9313\n",
            "Epoch 36/50\n",
            "83/83 [==============================] - 57s 687ms/step - loss: 0.0248 - accuracy: 0.9994 - val_loss: 0.2855 - val_accuracy: 0.9270\n",
            "Epoch 37/50\n",
            "83/83 [==============================] - 58s 694ms/step - loss: 0.0249 - accuracy: 0.9995 - val_loss: 0.2681 - val_accuracy: 0.9327\n",
            "Epoch 38/50\n",
            "83/83 [==============================] - 57s 686ms/step - loss: 0.0258 - accuracy: 0.9991 - val_loss: 0.2850 - val_accuracy: 0.9313\n",
            "Epoch 39/50\n",
            "83/83 [==============================] - 57s 685ms/step - loss: 0.0247 - accuracy: 0.9996 - val_loss: 0.2778 - val_accuracy: 0.9290\n",
            "Epoch 40/50\n",
            "83/83 [==============================] - 57s 684ms/step - loss: 0.0252 - accuracy: 0.9991 - val_loss: 0.2811 - val_accuracy: 0.9287\n",
            "Epoch 41/50\n",
            "83/83 [==============================] - 57s 683ms/step - loss: 0.0249 - accuracy: 0.9993 - val_loss: 0.2761 - val_accuracy: 0.9307\n",
            "Epoch 42/50\n",
            "83/83 [==============================] - ETA: 0s - loss: 0.0245 - accuracy: 0.9995\n",
            "Epoch 00042: ReduceLROnPlateau reducing learning rate to 9.999999974752428e-08.\n",
            "83/83 [==============================] - 57s 688ms/step - loss: 0.0245 - accuracy: 0.9995 - val_loss: 0.2761 - val_accuracy: 0.9310\n",
            "Epoch 43/50\n",
            "83/83 [==============================] - 57s 683ms/step - loss: 0.0251 - accuracy: 0.9994 - val_loss: 0.2799 - val_accuracy: 0.9297\n",
            "Epoch 44/50\n",
            "83/83 [==============================] - 57s 687ms/step - loss: 0.0248 - accuracy: 0.9994 - val_loss: 0.2787 - val_accuracy: 0.9307\n",
            "Epoch 45/50\n",
            "83/83 [==============================] - 57s 683ms/step - loss: 0.0245 - accuracy: 0.9994 - val_loss: 0.2746 - val_accuracy: 0.9290\n",
            "Epoch 46/50\n",
            "83/83 [==============================] - 57s 685ms/step - loss: 0.0245 - accuracy: 0.9996 - val_loss: 0.2767 - val_accuracy: 0.9300\n",
            "Epoch 47/50\n",
            "83/83 [==============================] - ETA: 0s - loss: 0.0244 - accuracy: 0.9995\n",
            "Epoch 00047: ReduceLROnPlateau reducing learning rate to 1.0000000116860975e-08.\n",
            "83/83 [==============================] - 57s 687ms/step - loss: 0.0244 - accuracy: 0.9995 - val_loss: 0.2848 - val_accuracy: 0.9280\n",
            "Epoch 48/50\n",
            "83/83 [==============================] - 57s 688ms/step - loss: 0.0253 - accuracy: 0.9991 - val_loss: 0.2775 - val_accuracy: 0.9293\n",
            "Epoch 49/50\n",
            "83/83 [==============================] - 57s 687ms/step - loss: 0.0249 - accuracy: 0.9993 - val_loss: 0.2780 - val_accuracy: 0.9317\n",
            "Epoch 50/50\n",
            "83/83 [==============================] - 57s 687ms/step - loss: 0.0250 - accuracy: 0.9992 - val_loss: 0.2678 - val_accuracy: 0.9340\n",
            "Epoch 1/10\n",
            "83/83 [==============================] - 60s 720ms/step - loss: 0.6525 - accuracy: 0.8600 - val_loss: 1.9336 - val_accuracy: 0.1700\n",
            "Epoch 2/10\n",
            "83/83 [==============================] - 58s 701ms/step - loss: 0.4396 - accuracy: 0.9330 - val_loss: 2.0532 - val_accuracy: 0.1700\n",
            "Epoch 3/10\n",
            "83/83 [==============================] - 58s 699ms/step - loss: 0.3726 - accuracy: 0.9509 - val_loss: 1.9636 - val_accuracy: 0.1747\n",
            "Epoch 4/10\n",
            "83/83 [==============================] - 58s 697ms/step - loss: 0.3227 - accuracy: 0.9617 - val_loss: 1.8598 - val_accuracy: 0.2263\n",
            "Epoch 5/10\n",
            "83/83 [==============================] - 58s 699ms/step - loss: 0.2848 - accuracy: 0.9690 - val_loss: 1.8281 - val_accuracy: 0.2947\n",
            "Epoch 6/10\n",
            "83/83 [==============================] - 58s 700ms/step - loss: 0.2588 - accuracy: 0.9727 - val_loss: 1.7514 - val_accuracy: 0.3423\n",
            "Epoch 7/10\n",
            "83/83 [==============================] - 58s 701ms/step - loss: 0.2214 - accuracy: 0.9787 - val_loss: 1.2278 - val_accuracy: 0.5757\n",
            "Epoch 8/10\n",
            "83/83 [==============================] - 58s 693ms/step - loss: 0.1999 - accuracy: 0.9825 - val_loss: 0.9248 - val_accuracy: 0.6947\n",
            "Epoch 9/10\n",
            "83/83 [==============================] - 57s 692ms/step - loss: 0.1899 - accuracy: 0.9800 - val_loss: 0.6995 - val_accuracy: 0.7850\n",
            "Epoch 10/10\n",
            "83/83 [==============================] - 58s 696ms/step - loss: 0.1674 - accuracy: 0.9850 - val_loss: 0.5035 - val_accuracy: 0.8527\n",
            "Epoch 1/50\n",
            "83/83 [==============================] - 58s 704ms/step - loss: 0.1541 - accuracy: 0.9856 - val_loss: 0.5002 - val_accuracy: 0.8583\n",
            "Epoch 2/50\n",
            "83/83 [==============================] - 57s 689ms/step - loss: 0.1386 - accuracy: 0.9867 - val_loss: 0.4213 - val_accuracy: 0.8907\n",
            "Epoch 3/50\n",
            "83/83 [==============================] - 57s 693ms/step - loss: 0.1292 - accuracy: 0.9880 - val_loss: 0.3658 - val_accuracy: 0.9017\n",
            "Epoch 4/50\n",
            "83/83 [==============================] - 57s 688ms/step - loss: 0.1211 - accuracy: 0.9881 - val_loss: 0.3446 - val_accuracy: 0.9070\n",
            "Epoch 5/50\n",
            "83/83 [==============================] - 57s 689ms/step - loss: 0.1209 - accuracy: 0.9858 - val_loss: 0.3993 - val_accuracy: 0.8880\n",
            "Epoch 6/50\n",
            "83/83 [==============================] - 59s 705ms/step - loss: 0.1133 - accuracy: 0.9858 - val_loss: 0.3314 - val_accuracy: 0.9140\n",
            "Epoch 7/50\n",
            "83/83 [==============================] - 57s 691ms/step - loss: 0.0940 - accuracy: 0.9914 - val_loss: 0.3535 - val_accuracy: 0.9073\n",
            "Epoch 8/50\n",
            "83/83 [==============================] - 57s 691ms/step - loss: 0.0857 - accuracy: 0.9924 - val_loss: 0.3499 - val_accuracy: 0.9050\n",
            "Epoch 9/50\n",
            "83/83 [==============================] - 57s 685ms/step - loss: 0.0813 - accuracy: 0.9924 - val_loss: 0.3339 - val_accuracy: 0.9113\n",
            "Epoch 10/50\n",
            "83/83 [==============================] - 57s 690ms/step - loss: 0.0752 - accuracy: 0.9928 - val_loss: 0.3112 - val_accuracy: 0.9180\n",
            "Epoch 11/50\n",
            "83/83 [==============================] - 57s 685ms/step - loss: 0.0707 - accuracy: 0.9918 - val_loss: 0.3583 - val_accuracy: 0.9080\n",
            "Epoch 12/50\n",
            "83/83 [==============================] - 57s 689ms/step - loss: 0.0689 - accuracy: 0.9916 - val_loss: 0.3472 - val_accuracy: 0.9110\n",
            "Epoch 13/50\n",
            "83/83 [==============================] - 57s 686ms/step - loss: 0.0659 - accuracy: 0.9932 - val_loss: 0.3430 - val_accuracy: 0.9110\n",
            "Epoch 14/50\n",
            "83/83 [==============================] - 57s 688ms/step - loss: 0.0618 - accuracy: 0.9916 - val_loss: 0.3328 - val_accuracy: 0.9093\n",
            "Epoch 15/50\n",
            "83/83 [==============================] - 57s 690ms/step - loss: 0.0574 - accuracy: 0.9937 - val_loss: 0.2995 - val_accuracy: 0.9207\n",
            "Epoch 16/50\n",
            "83/83 [==============================] - 57s 687ms/step - loss: 0.0553 - accuracy: 0.9931 - val_loss: 0.2789 - val_accuracy: 0.9223\n",
            "Epoch 17/50\n",
            "83/83 [==============================] - 57s 689ms/step - loss: 0.0498 - accuracy: 0.9941 - val_loss: 0.3412 - val_accuracy: 0.9093\n",
            "Epoch 18/50\n",
            "83/83 [==============================] - 57s 684ms/step - loss: 0.0475 - accuracy: 0.9942 - val_loss: 0.3436 - val_accuracy: 0.9080\n",
            "Epoch 19/50\n",
            "83/83 [==============================] - 57s 689ms/step - loss: 0.0427 - accuracy: 0.9954 - val_loss: 0.3327 - val_accuracy: 0.9117\n",
            "Epoch 20/50\n",
            "83/83 [==============================] - 57s 682ms/step - loss: 0.0490 - accuracy: 0.9922 - val_loss: 0.4062 - val_accuracy: 0.8883\n",
            "Epoch 21/50\n",
            "83/83 [==============================] - ETA: 0s - loss: 0.0494 - accuracy: 0.9921\n",
            "Epoch 00021: ReduceLROnPlateau reducing learning rate to 9.999999747378752e-06.\n",
            "83/83 [==============================] - 57s 683ms/step - loss: 0.0494 - accuracy: 0.9921 - val_loss: 0.3347 - val_accuracy: 0.9137\n",
            "Epoch 22/50\n",
            "83/83 [==============================] - 57s 684ms/step - loss: 0.0370 - accuracy: 0.9956 - val_loss: 0.2932 - val_accuracy: 0.9223\n",
            "Epoch 23/50\n",
            "83/83 [==============================] - 57s 685ms/step - loss: 0.0310 - accuracy: 0.9975 - val_loss: 0.2902 - val_accuracy: 0.9200\n",
            "Epoch 24/50\n",
            "83/83 [==============================] - 57s 691ms/step - loss: 0.0286 - accuracy: 0.9990 - val_loss: 0.2866 - val_accuracy: 0.9273\n",
            "Epoch 25/50\n",
            "83/83 [==============================] - 57s 687ms/step - loss: 0.0281 - accuracy: 0.9989 - val_loss: 0.2894 - val_accuracy: 0.9250\n",
            "Epoch 26/50\n",
            "83/83 [==============================] - 57s 686ms/step - loss: 0.0278 - accuracy: 0.9989 - val_loss: 0.2760 - val_accuracy: 0.9313\n",
            "Epoch 27/50\n",
            "83/83 [==============================] - 57s 687ms/step - loss: 0.0277 - accuracy: 0.9985 - val_loss: 0.2820 - val_accuracy: 0.9267\n",
            "Epoch 28/50\n",
            "83/83 [==============================] - 57s 689ms/step - loss: 0.0273 - accuracy: 0.9989 - val_loss: 0.2746 - val_accuracy: 0.9333\n",
            "Epoch 29/50\n",
            "83/83 [==============================] - 57s 693ms/step - loss: 0.0262 - accuracy: 0.9990 - val_loss: 0.2713 - val_accuracy: 0.9320\n",
            "Epoch 30/50\n",
            "83/83 [==============================] - 57s 688ms/step - loss: 0.0259 - accuracy: 0.9989 - val_loss: 0.2816 - val_accuracy: 0.9293\n",
            "Epoch 31/50\n",
            "83/83 [==============================] - 57s 687ms/step - loss: 0.0266 - accuracy: 0.9985 - val_loss: 0.2775 - val_accuracy: 0.9317\n",
            "Epoch 32/50\n",
            "83/83 [==============================] - 57s 685ms/step - loss: 0.0249 - accuracy: 0.9992 - val_loss: 0.2752 - val_accuracy: 0.9300\n",
            "Epoch 33/50\n",
            "83/83 [==============================] - 57s 686ms/step - loss: 0.0240 - accuracy: 0.9995 - val_loss: 0.2777 - val_accuracy: 0.9313\n",
            "Epoch 34/50\n",
            "83/83 [==============================] - ETA: 0s - loss: 0.0241 - accuracy: 0.9992\n",
            "Epoch 00034: ReduceLROnPlateau reducing learning rate to 9.999999747378752e-07.\n",
            "83/83 [==============================] - 57s 684ms/step - loss: 0.0241 - accuracy: 0.9992 - val_loss: 0.2820 - val_accuracy: 0.9280\n",
            "Epoch 35/50\n",
            "83/83 [==============================] - 57s 686ms/step - loss: 0.0239 - accuracy: 0.9991 - val_loss: 0.2785 - val_accuracy: 0.9320\n",
            "Epoch 36/50\n",
            "83/83 [==============================] - 57s 688ms/step - loss: 0.0236 - accuracy: 0.9993 - val_loss: 0.2654 - val_accuracy: 0.9350\n",
            "Epoch 37/50\n",
            "83/83 [==============================] - 57s 688ms/step - loss: 0.0239 - accuracy: 0.9993 - val_loss: 0.2696 - val_accuracy: 0.9350\n",
            "Epoch 38/50\n",
            "83/83 [==============================] - 57s 685ms/step - loss: 0.0235 - accuracy: 0.9992 - val_loss: 0.2724 - val_accuracy: 0.9343\n",
            "Epoch 39/50\n",
            "83/83 [==============================] - 57s 682ms/step - loss: 0.0238 - accuracy: 0.9993 - val_loss: 0.2785 - val_accuracy: 0.9317\n",
            "Epoch 40/50\n",
            "83/83 [==============================] - 57s 691ms/step - loss: 0.0238 - accuracy: 0.9992 - val_loss: 0.2738 - val_accuracy: 0.9333\n",
            "Epoch 41/50\n",
            "83/83 [==============================] - ETA: 0s - loss: 0.0234 - accuracy: 0.9994\n",
            "Epoch 00041: ReduceLROnPlateau reducing learning rate to 9.999999974752428e-08.\n",
            "83/83 [==============================] - 57s 685ms/step - loss: 0.0234 - accuracy: 0.9994 - val_loss: 0.2746 - val_accuracy: 0.9323\n",
            "Epoch 42/50\n",
            "83/83 [==============================] - 57s 690ms/step - loss: 0.0237 - accuracy: 0.9994 - val_loss: 0.2831 - val_accuracy: 0.9310\n",
            "Epoch 43/50\n",
            "83/83 [==============================] - 57s 688ms/step - loss: 0.0240 - accuracy: 0.9989 - val_loss: 0.2773 - val_accuracy: 0.9357\n",
            "Epoch 44/50\n",
            "83/83 [==============================] - 57s 687ms/step - loss: 0.0233 - accuracy: 0.9994 - val_loss: 0.2899 - val_accuracy: 0.9310\n",
            "Epoch 45/50\n",
            "83/83 [==============================] - 57s 690ms/step - loss: 0.0247 - accuracy: 0.9990 - val_loss: 0.2711 - val_accuracy: 0.9327\n",
            "Epoch 46/50\n",
            "83/83 [==============================] - ETA: 0s - loss: 0.0239 - accuracy: 0.9992\n",
            "Epoch 00046: ReduceLROnPlateau reducing learning rate to 1.0000000116860975e-08.\n",
            "83/83 [==============================] - 57s 692ms/step - loss: 0.0239 - accuracy: 0.9992 - val_loss: 0.2811 - val_accuracy: 0.9297\n",
            "Epoch 47/50\n",
            "83/83 [==============================] - 57s 686ms/step - loss: 0.0242 - accuracy: 0.9990 - val_loss: 0.2741 - val_accuracy: 0.9290\n",
            "Epoch 48/50\n",
            "83/83 [==============================] - 57s 685ms/step - loss: 0.0235 - accuracy: 0.9994 - val_loss: 0.2754 - val_accuracy: 0.9327\n",
            "Epoch 49/50\n",
            "83/83 [==============================] - 57s 690ms/step - loss: 0.0234 - accuracy: 0.9991 - val_loss: 0.2800 - val_accuracy: 0.9330\n",
            "Epoch 50/50\n",
            "83/83 [==============================] - 57s 685ms/step - loss: 0.0237 - accuracy: 0.9991 - val_loss: 0.2676 - val_accuracy: 0.9350\n"
          ],
          "name": "stdout"
        }
      ]
    },
    {
      "cell_type": "code",
      "metadata": {
        "id": "-cNPx0ICGwSv"
      },
      "source": [
        "def ensemble(models, input_tensor):\n",
        "    \n",
        "    outputs = [model.outputs[0] for model in models]\n",
        "    y =layers.Average()(outputs)\n",
        "\n",
        "    model = Model(input_tensor, y, name='ensemble')\n",
        "    \n",
        "    return model"
      ],
      "execution_count": 27,
      "outputs": []
    },
    {
      "cell_type": "code",
      "metadata": {
        "id": "b4MgSl47EgEI"
      },
      "source": [
        "for i, m in enumerate(models):\n",
        "  for layer in m.layers:\n",
        "    layer._name = f'{layer.name}_{i}'"
      ],
      "execution_count": 30,
      "outputs": []
    },
    {
      "cell_type": "code",
      "metadata": {
        "id": "lizJ72KYGy2m"
      },
      "source": [
        "ensemble_model = ensemble(models, input_tensor)\n",
        "ensemble_model.compile(loss='categorical_crossentropy',\n",
        "                optimizer=Adam(lr=0.0001), \n",
        "                metrics=['accuracy'])"
      ],
      "execution_count": 33,
      "outputs": []
    },
    {
      "cell_type": "code",
      "metadata": {
        "id": "G_dWuljOHGMy",
        "colab": {
          "base_uri": "https://localhost:8080/"
        },
        "outputId": "248beba7-2f08-422e-95dc-d86b5dbd32f1"
      },
      "source": [
        "ensemble_model.evaluate(valid_generator_l)"
      ],
      "execution_count": 34,
      "outputs": [
        {
          "output_type": "stream",
          "text": [
            "24/24 [==============================] - 14s 595ms/step - loss: 0.2120 - accuracy: 0.9370\n"
          ],
          "name": "stdout"
        },
        {
          "output_type": "execute_result",
          "data": {
            "text/plain": [
              "[0.21199235320091248, 0.9369999766349792]"
            ]
          },
          "metadata": {
            "tags": []
          },
          "execution_count": 34
        }
      ]
    },
    {
      "cell_type": "code",
      "metadata": {
        "id": "psEurSCAS6NQ"
      },
      "source": [
        "ensemble_model.save(f'/content/drive/MyDrive/model_resnet_kfold_ensembe.h5')"
      ],
      "execution_count": 35,
      "outputs": []
    },
    {
      "cell_type": "markdown",
      "metadata": {
        "id": "sUlqShyvwY9o"
      },
      "source": [
        "## Summary"
      ]
    },
    {
      "cell_type": "code",
      "metadata": {
        "id": "huCLaps9K9pU"
      },
      "source": [
        "from tensorflow.keras.models import load_model"
      ],
      "execution_count": null,
      "outputs": []
    },
    {
      "cell_type": "code",
      "metadata": {
        "id": "vEXX3WDFLPwW"
      },
      "source": [
        "MODEL_PATH = '/content/drive/MyDrive/model_resnet_kfold_ensembe.h5'"
      ],
      "execution_count": null,
      "outputs": []
    },
    {
      "cell_type": "code",
      "metadata": {
        "colab": {
          "base_uri": "https://localhost:8080/"
        },
        "id": "ppoYYT6uLMua",
        "outputId": "e856b374-9884-482e-d895-61b1a090d91d"
      },
      "source": [
        "model = load_model(MODEL_PATH)"
      ],
      "execution_count": null,
      "outputs": [
        {
          "output_type": "stream",
          "text": [
            "WARNING:tensorflow:Error in loading the saved optimizer state. As a result, your model is starting with a freshly initialized optimizer.\n"
          ],
          "name": "stdout"
        }
      ]
    },
    {
      "cell_type": "code",
      "metadata": {
        "colab": {
          "base_uri": "https://localhost:8080/"
        },
        "id": "SCeLU211ClsW",
        "outputId": "7e881ff9-0e6e-4fa2-f300-15107215284e"
      },
      "source": [
        "class_names"
      ],
      "execution_count": 40,
      "outputs": [
        {
          "output_type": "execute_result",
          "data": {
            "text/plain": [
              "['glacier', 'mountain', 'forest', 'sea', 'buildings', 'street']"
            ]
          },
          "metadata": {
            "tags": []
          },
          "execution_count": 40
        }
      ]
    },
    {
      "cell_type": "code",
      "metadata": {
        "colab": {
          "base_uri": "https://localhost:8080/",
          "height": 303
        },
        "id": "Qr4MzRMbNab9",
        "outputId": "dc7fc41c-3d67-4456-9815-729dac15079c"
      },
      "source": [
        "import imageio\n",
        "import cv2\n",
        "\n",
        "img = imageio.imread('/content/seg_test/seg_test/buildings/20057.jpg')\n",
        "web_image = cv2.resize(img, dsize=(150, 150)).astype('float')\n",
        "web_image /= 255.\n",
        "web_image = np.expand_dims(web_image, axis=0)\n",
        "\n",
        "prediction = model.predict(web_image)\n",
        "prediction_probability = np.amax(prediction)\n",
        "prediction_idx = np.argmax(prediction)\n",
        "print(prediction_idx)\n",
        "\n",
        "print(\"Predicted class =\", class_names[prediction_idx].replace('_', ' '))\n",
        "print(\"Prediction probability =\", prediction_probability*100, \"%\")\n",
        "\n",
        "plt.imshow(img)\n",
        "plt.axis('off')\n",
        "plt.show()"
      ],
      "execution_count": 42,
      "outputs": [
        {
          "output_type": "stream",
          "text": [
            "4\n",
            "Predicted class = buildings\n",
            "Prediction probability = 97.75790572166443 %\n"
          ],
          "name": "stdout"
        },
        {
          "output_type": "display_data",
          "data": {
            "image/png": "[encoded data removed]",
            "text/plain": [
              "<Figure size 432x288 with 1 Axes>"
            ]
          },
          "metadata": {
            "tags": [],
            "needs_background": "light"
          }
        }
      ]
    }
  ]
}